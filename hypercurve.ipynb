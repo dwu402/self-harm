{
 "cells": [
  {
   "cell_type": "code",
   "execution_count": 1,
   "metadata": {
    "ExecuteTime": {
     "end_time": "2019-05-14T07:11:33.461936Z",
     "start_time": "2019-05-14T07:11:33.010964Z"
    }
   },
   "outputs": [],
   "source": [
    "import ingestor, modeller, fitter\n",
    "import matplotlib.pyplot as plt\n",
    "import numpy as np"
   ]
  },
  {
   "cell_type": "code",
   "execution_count": 2,
   "metadata": {
    "ExecuteTime": {
     "end_time": "2019-05-14T07:11:33.473250Z",
     "start_time": "2019-05-14T07:11:33.463042Z"
    }
   },
   "outputs": [],
   "source": [
    "from mpl_toolkits.mplot3d import Axes3D\n",
    "%matplotlib notebook"
   ]
  },
  {
   "cell_type": "code",
   "execution_count": 3,
   "metadata": {
    "ExecuteTime": {
     "end_time": "2019-05-14T07:11:33.516443Z",
     "start_time": "2019-05-14T07:11:33.478963Z"
    }
   },
   "outputs": [
    {
     "data": {
      "text/plain": [
       "<module 'fitter' from '/media/dwu402/Data/wrap-mad/fitter.py'>"
      ]
     },
     "execution_count": 3,
     "metadata": {},
     "output_type": "execute_result"
    }
   ],
   "source": [
    "from importlib import reload\n",
    "reload(ingestor)\n",
    "reload(modeller)\n",
    "reload(fitter)"
   ]
  },
  {
   "cell_type": "code",
   "execution_count": 4,
   "metadata": {
    "ExecuteTime": {
     "end_time": "2019-05-14T07:11:33.525671Z",
     "start_time": "2019-05-14T07:11:33.520154Z"
    }
   },
   "outputs": [],
   "source": [
    "plt.style.use('seaborn-notebook')\n",
    "plt.rc('text', usetex=True)\n",
    "plt.rc('font', family='serif')\n",
    "\n",
    "from cycler import cycler\n",
    "\n",
    "new_color = cycler(color=[\"k\"])\n",
    "plt.rcParams['axes.prop_cycle'] = plt.rcParams['axes.prop_cycle'].concat(new_color)"
   ]
  },
  {
   "cell_type": "code",
   "execution_count": 5,
   "metadata": {
    "ExecuteTime": {
     "end_time": "2019-05-14T07:11:33.551273Z",
     "start_time": "2019-05-14T07:11:33.528267Z"
    }
   },
   "outputs": [],
   "source": [
    "context = ingestor.Context(\"runs/augmented_all.run\")"
   ]
  },
  {
   "cell_type": "code",
   "execution_count": 6,
   "metadata": {
    "ExecuteTime": {
     "end_time": "2019-05-14T07:11:33.557544Z",
     "start_time": "2019-05-14T07:11:33.552341Z"
    }
   },
   "outputs": [],
   "source": [
    "def replace(l, idx, val):\n",
    "    return l[:idx] + [val] + l[idx+1:]"
   ]
  },
  {
   "cell_type": "code",
   "execution_count": 7,
   "metadata": {
    "ExecuteTime": {
     "end_time": "2019-05-14T07:11:33.565917Z",
     "start_time": "2019-05-14T07:11:33.558738Z"
    }
   },
   "outputs": [],
   "source": [
    "solvers = []"
   ]
  },
  {
   "cell_type": "code",
   "execution_count": 8,
   "metadata": {
    "ExecuteTime": {
     "end_time": "2019-05-14T07:11:33.575749Z",
     "start_time": "2019-05-14T07:11:33.567785Z"
    }
   },
   "outputs": [],
   "source": [
    "Nalpha = 49\n",
    "Nrho = 49\n",
    "alphas = np.logspace(-7, 5, num=Nalpha)\n",
    "rhos = np.logspace(-6, 6, num=Nrho)"
   ]
  },
  {
   "cell_type": "code",
   "execution_count": null,
   "metadata": {
    "ExecuteTime": {
     "start_time": "2019-05-14T07:11:33.048Z"
    }
   },
   "outputs": [
    {
     "name": "stdout",
     "output_type": "stream",
     "text": [
      "alpha : 1e-07\n"
     ]
    }
   ],
   "source": [
    "for alpha in alphas:\n",
    "    print(f\"alpha : {alpha}\")\n",
    "    context.update('fitting_configuration', \n",
    "                   {'regularisation_parameter': replace(context.fitting_configuration['regularisation_parameter'], \n",
    "                                                        2, alpha)\n",
    "                   })\n",
    "    solver = fitter.Fitter(context)\n",
    "    solvers.append(solver)\n",
    "    for rho in rhos:\n",
    "        solver.solve(rho)"
   ]
  },
  {
   "cell_type": "markdown",
   "metadata": {},
   "source": [
    "## Visualisations"
   ]
  },
  {
   "cell_type": "code",
   "execution_count": null,
   "metadata": {
    "ExecuteTime": {
     "start_time": "2019-05-14T07:11:33.064Z"
    }
   },
   "outputs": [],
   "source": [
    "funs = [list(map(lambda x: x[0]['fun'], solver.solutions.values())) for solver in solvers]\n",
    "sols = [solver.solutions for solver in solvers]\n",
    "\n",
    "rs = []\n",
    "fs = []\n",
    "ds = []\n",
    "\n",
    "for alpha, solver, sol, fun in zip(alphas, solvers, sols, funs):\n",
    "    rs.append([solver.regularisation(sol[str(rho)][0].x)/alpha  for rho in rhos])\n",
    "    fs.append([fun[idx] for idx, _ in enumerate(rhos)])\n",
    "    ds.append([(solver.problems[0].cache.results[fitter.tokey(rho, sol[str(rho)][0].x)].fun - fs[-1][idx])/rho \n",
    "               for idx, rho in enumerate(rhos)])\n"
   ]
  },
  {
   "cell_type": "code",
   "execution_count": null,
   "metadata": {
    "ExecuteTime": {
     "start_time": "2019-05-14T07:11:33.068Z"
    }
   },
   "outputs": [],
   "source": [
    "fs, rs, ds = (np.array(fs), np.array(rs), np.array(ds))"
   ]
  },
  {
   "cell_type": "code",
   "execution_count": null,
   "metadata": {
    "ExecuteTime": {
     "start_time": "2019-05-14T07:11:33.072Z"
    }
   },
   "outputs": [],
   "source": [
    "fig = plt.figure()\n",
    "ax = fig.add_subplot(111, projection='3d')\n",
    "ax.contourf(np.log10(fs), np.log10(rs), np.log10(abs(ds)), levels=50)\n",
    "ax.plot_wireframe(np.log10(fs), np.log10(rs), np.log10(abs(ds)), linewidth=0.25)\n",
    "# ax.scatter(np.log10(fs), np.log10(rs), np.log10(abs(ds)), s=5)\n",
    "ax.set_xlabel('Data Fit')\n",
    "ax.set_ylabel('Outer Regularisation Term')\n",
    "ax.set_zlabel('Gradient Field')"
   ]
  },
  {
   "cell_type": "code",
   "execution_count": null,
   "metadata": {
    "ExecuteTime": {
     "start_time": "2019-05-14T07:11:33.075Z"
    }
   },
   "outputs": [],
   "source": [
    "fig = plt.figure()\n",
    "ax = fig.add_subplot(111, projection='3d')\n",
    "ax.plot_wireframe(*np.log10(np.meshgrid(rhos,alphas)), np.log(fs))\n",
    "ax.set_xlabel(r\"$\\rho$\")\n",
    "ax.set_ylabel(r\"$\\alpha$\")\n",
    "ax.set_zlabel(\"H\")"
   ]
  },
  {
   "cell_type": "code",
   "execution_count": null,
   "metadata": {
    "ExecuteTime": {
     "start_time": "2019-05-14T07:11:33.078Z"
    }
   },
   "outputs": [],
   "source": [
    "fig = plt.figure()\n",
    "ax = fig.add_subplot(111, projection='3d')\n",
    "ax.plot_wireframe(*np.log10(np.meshgrid(rhos,alphas)), np.log10(rs))\n",
    "ax.set_xlabel(r\"$\\rho$\")\n",
    "ax.set_ylabel(r\"$\\alpha$\")\n",
    "ax.set_zlabel(\"L\")"
   ]
  },
  {
   "cell_type": "code",
   "execution_count": null,
   "metadata": {
    "ExecuteTime": {
     "start_time": "2019-05-14T07:11:33.081Z"
    }
   },
   "outputs": [],
   "source": [
    "fig = plt.figure()\n",
    "ax = fig.add_subplot(111, projection='3d')\n",
    "ax.plot_wireframe(*np.log10(np.meshgrid(rhos,alphas)), np.log(np.abs(ds)))\n",
    "ax.set_xlabel(r\"$\\rho$\")\n",
    "ax.set_ylabel(r\"$\\alpha$\")\n",
    "ax.set_zlabel(\"D\")"
   ]
  },
  {
   "cell_type": "code",
   "execution_count": null,
   "metadata": {
    "ExecuteTime": {
     "start_time": "2019-05-14T07:11:33.084Z"
    }
   },
   "outputs": [],
   "source": [
    "from scipy import interpolate\n",
    "\n",
    "rhomesh, alphamesh= np.log10(np.meshgrid(rhos,alphas))"
   ]
  },
  {
   "cell_type": "code",
   "execution_count": null,
   "metadata": {
    "ExecuteTime": {
     "start_time": "2019-05-14T07:11:33.092Z"
    }
   },
   "outputs": [],
   "source": [
    "fs_smooth = interpolate.RectBivariateSpline(np.log10(alphas), np.log10(rhos), np.log10(fs), kx=4, ky=4, s=40)\n",
    "rs_smooth = interpolate.RectBivariateSpline(np.log10(alphas), np.log10(rhos), np.log10(rs), kx=4, ky=4, s=600)\n",
    "ds_smooth = interpolate.RectBivariateSpline(np.log10(alphas), np.log10(rhos), np.log10(np.abs(ds)), kx=4, ky=4, s=600)"
   ]
  },
  {
   "cell_type": "code",
   "execution_count": null,
   "metadata": {
    "ExecuteTime": {
     "start_time": "2019-05-14T07:11:33.095Z"
    }
   },
   "outputs": [],
   "source": [
    "fs_eval = np.array([fs_smooth(a, r).item() for r,a in zip(rhomesh.flatten(), alphamesh.flatten())]).reshape(Nalpha, Nrho)\n",
    "fig = plt.figure()\n",
    "ax = fig.add_subplot(111, projection='3d')\n",
    "ax.plot_wireframe(rhomesh, alphamesh, fs_eval)\n",
    "ax.set_xlabel(r\"$\\rho$\")\n",
    "ax.set_ylabel(r\"$\\alpha$\")\n",
    "ax.set_zlabel(r\"$H$\")"
   ]
  },
  {
   "cell_type": "code",
   "execution_count": null,
   "metadata": {
    "ExecuteTime": {
     "start_time": "2019-05-14T07:11:33.101Z"
    },
    "scrolled": false
   },
   "outputs": [],
   "source": [
    "rs_eval = np.array([rs_smooth(a, r).item() for r,a in zip(rhomesh.flatten(), alphamesh.flatten())]).reshape(Nalpha, Nrho)\n",
    "fig = plt.figure()\n",
    "ax = fig.add_subplot(111, projection='3d')\n",
    "ax.plot_wireframe(rhomesh, alphamesh, rs_eval)\n",
    "ax.set_xlabel(r\"$\\rho$\")\n",
    "ax.set_ylabel(r\"$\\alpha$\")\n",
    "ax.set_zlabel(r\"$L$\")"
   ]
  },
  {
   "cell_type": "code",
   "execution_count": null,
   "metadata": {
    "ExecuteTime": {
     "start_time": "2019-05-14T07:11:33.104Z"
    },
    "scrolled": false
   },
   "outputs": [],
   "source": [
    "ds_eval = np.array([ds_smooth(a, r).item() for r,a in zip(rhomesh.flatten(), alphamesh.flatten())]).reshape(Nalpha, Nrho)\n",
    "fig = plt.figure()\n",
    "ax = fig.add_subplot(111, projection='3d')\n",
    "ax.plot_wireframe(rhomesh, alphamesh, ds_eval)\n",
    "ax.set_xlabel(r\"$\\rho$\")\n",
    "ax.set_ylabel(r\"$\\alpha$\")\n",
    "ax.set_zlabel(r\"$D$\")"
   ]
  },
  {
   "cell_type": "code",
   "execution_count": null,
   "metadata": {
    "ExecuteTime": {
     "start_time": "2019-05-14T07:11:33.109Z"
    }
   },
   "outputs": [],
   "source": [
    "fig = plt.figure()\n",
    "ax = fig.add_subplot(111, projection='3d')\n",
    "ax.plot_surface(fs_eval, rs_eval, ds_eval, cmap='cividis')\n",
    "ax.plot_wireframe(fs_eval, rs_eval, ds_eval, linewidth=0.25)\n",
    "ax.set_xlabel('H')\n",
    "ax.set_ylabel('L')\n",
    "ax.set_zlabel('D')"
   ]
  },
  {
   "cell_type": "code",
   "execution_count": null,
   "metadata": {
    "ExecuteTime": {
     "start_time": "2019-05-14T07:11:33.115Z"
    }
   },
   "outputs": [],
   "source": [
    "x_u = lambda r, a: np.array([f(a, r, dx=1).item() for f in [fs_smooth, rs_smooth, ds_smooth]])\n",
    "x_v = lambda r, a: np.array([f(a, r, dy=1).item() for f in [fs_smooth, rs_smooth, ds_smooth]])\n",
    "x_uu = lambda r, a: np.array([f(a, r, dx=2).item() for f in [fs_smooth, rs_smooth, ds_smooth]])\n",
    "x_uv = lambda r, a: np.array([f(a, r, dx=1, dy=2).item() for f in [fs_smooth, rs_smooth, ds_smooth]])\n",
    "x_vv = lambda r, a: np.array([f(a, r, dy=2).item() for f in [fs_smooth, rs_smooth, ds_smooth]])\n",
    "n = lambda r, a: np.cross(x_u(r,a), x_v(r,a))/np.linalg.norm(np.cross(x_u(r,a), x_v(r,a)))\n",
    "\n",
    "fundamental_1 = lambda r, a: np.array([[np.dot(x_u(r,a), x_u(r,a)), np.dot(x_u(r,a), x_v(r,a))],\n",
    "                                       [np.dot(x_u(r,a), x_v(r,a)), np.dot(x_v(r,a), x_v(r,a))]])\n",
    "fundamental_2 = lambda r, a: np.array([[np.dot(x_uu(r,a), n(r,a)), np.dot(x_uv(r,a), n(r,a))],\n",
    "                                       [np.dot(x_uv(r,a), n(r,a)), np.dot(x_vv(r,a), n(r,a))]])\n",
    "\n",
    "curvature = lambda r, a: np.linalg.eigvals(np.linalg.solve(fundamental_1(r,a), fundamental_2(r,a)))\n",
    "gaussian_curvature = lambda r, a: np.prod(curvature(r,a))\n",
    "mean_curvature = lambda r, a: np.mean(curvature(r, a))"
   ]
  },
  {
   "cell_type": "code",
   "execution_count": null,
   "metadata": {
    "ExecuteTime": {
     "start_time": "2019-05-14T07:11:33.117Z"
    }
   },
   "outputs": [],
   "source": [
    "gcurvs = np.array([gaussian_curvature(r, a) for r, a in zip(rhomesh.flatten(), alphamesh.flatten())]).reshape(Nalpha, Nrho)\n",
    "mcurvs = np.array([mean_curvature(r, a) for r, a in zip(rhomesh.flatten(), alphamesh.flatten())]).reshape(Nalpha, Nrho)"
   ]
  },
  {
   "cell_type": "code",
   "execution_count": null,
   "metadata": {
    "ExecuteTime": {
     "start_time": "2019-05-14T07:11:33.118Z"
    }
   },
   "outputs": [],
   "source": [
    "fig = plt.figure()\n",
    "ax = fig.add_subplot(111, projection='3d')\n",
    "ax.scatter(rhomesh, alphamesh, np.log10(gcurvs))\n",
    "ax.set_xlabel(r\"$\\rho$\")\n",
    "ax.set_ylabel(r\"$\\alpha$\")\n",
    "ax.set_zlabel(r\"$\\kappa$\")\n",
    "ax.set_title(\"Gaussian Curvature\")"
   ]
  },
  {
   "cell_type": "code",
   "execution_count": null,
   "metadata": {
    "ExecuteTime": {
     "start_time": "2019-05-14T07:11:33.121Z"
    }
   },
   "outputs": [],
   "source": [
    "fig = plt.figure()\n",
    "ax = fig.add_subplot(111, projection='3d')\n",
    "ax.scatter(rhomesh, alphamesh, np.log10(mcurvs))\n",
    "ax.set_xlabel(r\"$\\rho$\")\n",
    "ax.set_ylabel(r\"$\\alpha$\")\n",
    "ax.set_zlabel(r\"$\\kappa$\")\n",
    "ax.set_title(\"Mean Curvature\")"
   ]
  },
  {
   "cell_type": "code",
   "execution_count": null,
   "metadata": {
    "ExecuteTime": {
     "start_time": "2019-05-14T07:11:33.132Z"
    }
   },
   "outputs": [],
   "source": [
    "fig = plt.figure()\n",
    "ax = fig.add_subplot(111)\n",
    "im = ax.imshow(np.log10(gcurvs).T + np.log10(mcurvs).T)\n",
    "ax.set_xticks(range(0, Nalpha, 4))\n",
    "ax.set_xticklabels(np.log10(alphas[::4]))\n",
    "ax.set_yticks(range(0, Nrho, 4))\n",
    "ax.set_yticklabels(np.round(np.log10(rhos[::4]), 2))\n",
    "ax.set_xlabel(r\"$\\alpha$\")\n",
    "ax.set_ylabel(r\"$\\rho$\")\n",
    "fig.colorbar(im)"
   ]
  },
  {
   "cell_type": "code",
   "execution_count": null,
   "metadata": {
    "ExecuteTime": {
     "start_time": "2019-05-14T07:11:33.137Z"
    }
   },
   "outputs": [],
   "source": [
    "def ctfn(mk, gk):\n",
    "    tol = 1e-6\n",
    "    if mk > tol:\n",
    "        if gk > tol:\n",
    "            return 1\n",
    "        elif gk < -tol:\n",
    "            return 0.5\n",
    "    elif mk < -tol:\n",
    "        if gk > tol:\n",
    "            return -0.5\n",
    "        elif gk <-tol:\n",
    "            return -1\n",
    "    return 0\n",
    "\n",
    "curv_type = np.array([ctfn(M,G) for M, G in zip(mcurvs.flatten(), gcurvs.flatten())]).reshape(mcurvs.shape)\n",
    "\n",
    "fig = plt.figure()\n",
    "ax = fig.add_subplot(111)\n",
    "im = ax.imshow(curv_type.T, cmap='Spectral')\n",
    "ax.set_xticks(range(0, Nalpha, 4))\n",
    "ax.set_xticklabels(np.log10(alphas[::4]))\n",
    "ax.set_yticks(range(0, Nrho, 4))\n",
    "ax.set_yticklabels(np.round(np.log10(rhos[::4]), 2))\n",
    "ax.set_xlabel(r\"$\\alpha$\")\n",
    "ax.set_ylabel(r\"$\\rho$\")\n",
    "fig.colorbar(im)"
   ]
  },
  {
   "cell_type": "code",
   "execution_count": null,
   "metadata": {
    "ExecuteTime": {
     "start_time": "2019-05-14T07:11:33.140Z"
    },
    "scrolled": false
   },
   "outputs": [],
   "source": [
    "fs"
   ]
  },
  {
   "cell_type": "code",
   "execution_count": null,
   "metadata": {
    "ExecuteTime": {
     "start_time": "2019-05-14T07:11:33.142Z"
    },
    "scrolled": false
   },
   "outputs": [],
   "source": [
    "rs"
   ]
  },
  {
   "cell_type": "code",
   "execution_count": null,
   "metadata": {
    "ExecuteTime": {
     "start_time": "2019-05-14T07:11:33.144Z"
    },
    "scrolled": false
   },
   "outputs": [],
   "source": [
    "ds"
   ]
  },
  {
   "cell_type": "code",
   "execution_count": null,
   "metadata": {
    "ExecuteTime": {
     "start_time": "2019-05-14T07:11:33.152Z"
    }
   },
   "outputs": [],
   "source": [
    "i = np.argmax(mcurvs)\n",
    "print(10**rhomesh.flatten()[i])\n",
    "print(10**alphamesh.flatten()[i])"
   ]
  },
  {
   "cell_type": "code",
   "execution_count": null,
   "metadata": {
    "ExecuteTime": {
     "start_time": "2019-05-14T07:11:33.155Z"
    }
   },
   "outputs": [],
   "source": [
    "# norm calcs\n",
    "error_norms = []\n",
    "for f, d, r in zip(fs, ds, rs):\n",
    "    error_norms.append([np.linalg.norm([fi,di,ri]) for fi,di,ri in zip(f,d,r)])\n",
    "    \n",
    "error_norms = np.array(error_norms)\n",
    "    \n",
    "fig = plt.figure()\n",
    "ax = fig.add_subplot(111, projection=\"3d\")\n",
    "ax.scatter(*np.log(np.meshgrid(rhos,alphas)), np.log(error_norms))"
   ]
  },
  {
   "cell_type": "code",
   "execution_count": null,
   "metadata": {
    "ExecuteTime": {
     "start_time": "2019-05-14T07:11:33.156Z"
    }
   },
   "outputs": [],
   "source": [
    "# Perform a profiling step\n",
    "ideal_rhos = []\n",
    "jdxs = []\n",
    "for alpha, en in zip(alphas, error_norms):\n",
    "    jdxs.append(np.argmin(en))\n",
    "    ideal_rhos.append((rhos[np.argmin(en)], min(en)))\n",
    "ideal_rhos = np.array(ideal_rhos)\n",
    "plt.figure()\n",
    "plt.loglog(alphas, ideal_rhos[:,0])\n",
    "plt.title(r\"$\\rho$ for different $\\alpha$\")\n",
    "plt.xlabel(\"$\\\\alpha$\")\n",
    "plt.ylabel(\"Ideal $\\\\rho$\")"
   ]
  },
  {
   "cell_type": "code",
   "execution_count": null,
   "metadata": {
    "ExecuteTime": {
     "start_time": "2019-05-14T07:11:33.159Z"
    }
   },
   "outputs": [],
   "source": [
    "# Transpose profiling\n",
    "\n",
    "ideal_alphas = []\n",
    "kdxs = []\n",
    "for rho, en in zip(rhos, error_norms.T):\n",
    "    kdxs.append(np.argmin(en))\n",
    "    ideal_alphas.append((alphas[np.argmin(en)], min(en)))\n",
    "ideal_alphas = np.array(ideal_alphas)\n",
    "plt.figure()\n",
    "plt.loglog(rhos, ideal_alphas[:,0])\n",
    "plt.title(r\"$\\alpha$ for different $\\rho$\")\n",
    "plt.xlabel(\"$\\\\rho$\")\n",
    "plt.ylabel(\"Ideal $\\\\alpha$\")"
   ]
  },
  {
   "cell_type": "code",
   "execution_count": null,
   "metadata": {
    "ExecuteTime": {
     "start_time": "2019-05-14T07:11:33.161Z"
    }
   },
   "outputs": [],
   "source": [
    "# construct contraction mapping plot\n",
    "fig = plt.figure()\n",
    "ax = fig.add_subplot(111, projection=\"3d\")\n",
    "ax.plot(*np.log10((rhos, ideal_alphas[:,0], ideal_alphas[:,1])))\n",
    "ax.plot(*np.log10((ideal_rhos[:,0], alphas, ideal_rhos[:,1])))\n",
    "ax.set_xlabel(r\"$\\rho$\")\n",
    "ax.set_ylabel(r\"$\\alpha$\")\n",
    "ax.set_zlabel(\"Norm\")"
   ]
  },
  {
   "cell_type": "code",
   "execution_count": null,
   "metadata": {
    "ExecuteTime": {
     "start_time": "2019-05-14T07:11:33.163Z"
    }
   },
   "outputs": [],
   "source": [
    "fig = plt.figure()\n",
    "ax = fig.add_subplot(111, projection='3d')\n",
    "ax.plot_surface(fs_eval, rs_eval, ds_eval, cmap='cividis', alpha=0.75)\n",
    "# ax.plot_wireframe(fs_eval, rs_eval, ds_eval, linewidth=0.25)\n",
    "\n",
    "# plot in points\n",
    "ax.plot(fs_eval[range(Nalpha), jdxs], rs_eval[range(Nalpha), jdxs], ds_eval[range(Nalpha), jdxs], 'ko-')\n",
    "ax.plot(fs_eval[kdxs, range(Nrho)], rs_eval[kdxs, range(Nrho)], ds_eval[kdxs, range(Nrho)], 'ro-')\n",
    "\n",
    "ax.set_xlabel('H')\n",
    "ax.set_ylabel('L')\n",
    "ax.set_zlabel('D')"
   ]
  }
 ],
 "metadata": {
  "@webio": {
   "lastCommId": "406d5791b2e744208135f120dcbd21f8",
   "lastKernelId": "71a3deeb-813a-4425-9e29-b64424da8a92"
  },
  "kernelspec": {
   "display_name": "Python 3",
   "language": "python",
   "name": "python3"
  },
  "language_info": {
   "codemirror_mode": {
    "name": "ipython",
    "version": 3
   },
   "file_extension": ".py",
   "mimetype": "text/x-python",
   "name": "python",
   "nbconvert_exporter": "python",
   "pygments_lexer": "ipython3",
   "version": "3.6.7"
  }
 },
 "nbformat": 4,
 "nbformat_minor": 2
}
