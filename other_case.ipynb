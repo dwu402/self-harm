{
 "cells": [
  {
   "cell_type": "code",
   "execution_count": 1,
   "metadata": {
    "ExecuteTime": {
     "end_time": "2019-05-22T23:56:59.947219Z",
     "start_time": "2019-05-22T23:56:59.569111Z"
    }
   },
   "outputs": [],
   "source": [
    "import ingestor, modeller, fitter\n",
    "import numpy as np\n",
    "import matplotlib.pyplot as plt"
   ]
  },
  {
   "cell_type": "code",
   "execution_count": 2,
   "metadata": {
    "ExecuteTime": {
     "end_time": "2019-05-22T23:56:59.954455Z",
     "start_time": "2019-05-22T23:56:59.950498Z"
    }
   },
   "outputs": [],
   "source": [
    "plt.style.use('seaborn-notebook')\n",
    "plt.rc('text', usetex=True)\n",
    "plt.rc('font', family='serif')\n",
    "plt.rcParams['figure.figsize'] = [15, 10]"
   ]
  },
  {
   "cell_type": "code",
   "execution_count": 3,
   "metadata": {
    "ExecuteTime": {
     "end_time": "2019-05-22T23:56:59.962352Z",
     "start_time": "2019-05-22T23:56:59.955864Z"
    }
   },
   "outputs": [
    {
     "data": {
      "text/plain": [
       "<module 'ingestor' from '/media/dwu402/Data/wrap-mad/ingestor.py'>"
      ]
     },
     "execution_count": 3,
     "metadata": {},
     "output_type": "execute_result"
    }
   ],
   "source": [
    "from importlib import reload\n",
    "\n",
    "reload(fitter)\n",
    "reload(modeller)\n",
    "reload(ingestor)"
   ]
  },
  {
   "cell_type": "code",
   "execution_count": null,
   "metadata": {
    "ExecuteTime": {
     "start_time": "2019-05-22T23:56:59.577Z"
    }
   },
   "outputs": [],
   "source": [
    "context = ingestor.Context(\"runs/dense_run3.3.run\")"
   ]
  },
  {
   "cell_type": "code",
   "execution_count": null,
   "metadata": {
    "ExecuteTime": {
     "start_time": "2019-05-22T23:56:59.580Z"
    }
   },
   "outputs": [],
   "source": [
    "solver = fitter.Fitter(context)"
   ]
  },
  {
   "cell_type": "code",
   "execution_count": null,
   "metadata": {
    "ExecuteTime": {
     "start_time": "2019-05-22T23:56:59.584Z"
    }
   },
   "outputs": [],
   "source": [
    "for rhoi in np.logspace(-6, 8, num=57):\n",
    "    solver.solve(rhoi)\n",
    "    solver.problems[0].initial_guess = solver.solutions[str(rhoi)][-1].x"
   ]
  },
  {
   "cell_type": "code",
   "execution_count": null,
   "metadata": {
    "ExecuteTime": {
     "start_time": "2019-05-22T23:56:59.586Z"
    }
   },
   "outputs": [],
   "source": [
    "solver.write(\"out/dense33solutions.out\")"
   ]
  },
  {
   "cell_type": "code",
   "execution_count": null,
   "metadata": {
    "ExecuteTime": {
     "start_time": "2019-05-22T23:56:59.591Z"
    }
   },
   "outputs": [],
   "source": [
    "rhos = [float(rho) for rho in solver.solutions.keys()]\n",
    "vals = [val[0].x for val in solver.solutions.values()]\n",
    "plt.plot(rhos, vals, 'X-')\n",
    "plt.legend(\"rkpcsmdfgjl\", loc=\"best\", bbox_to_anchor=(1.01, 1))\n",
    "plt.xscale(\"log\")\n",
    "plt.yscale(\"log\", nonposy=\"mask\")"
   ]
  },
  {
   "cell_type": "code",
   "execution_count": null,
   "metadata": {
    "ExecuteTime": {
     "start_time": "2019-05-22T23:56:59.593Z"
    }
   },
   "outputs": [],
   "source": [
    "outer_objective_values = np.array([[float(rho), val[0].fun] for rho, val in solver.solutions.items()])\n",
    "plt.loglog(*outer_objective_values.T, 'o')\n",
    "plt.title(\"Outer Objective Function Values by Algo Parameter\")"
   ]
  },
  {
   "cell_type": "code",
   "execution_count": null,
   "metadata": {
    "ExecuteTime": {
     "start_time": "2019-05-22T23:56:59.595Z"
    }
   },
   "outputs": [],
   "source": [
    "iters_list = np.array([[float(key), value[0].nit] for key, value in solver.solutions.items()])\n",
    "fevs_list = np.array([[float(key), value[0].nfev] for key, value in solver.solutions.items()])\n",
    "plt.semilogx(*iters_list.T, *fevs_list.T)\n",
    "\n",
    "low_iters = np.array([[k,v] for k,v in iters_list if v < 2])\n",
    "plt.plot(*low_iters.T, 'ro')\n",
    "\n",
    "plt.legend([\"niters\", \"nfev\", \"low iter\"], \n",
    "           loc=\"best\", bbox_to_anchor=(1.01, 1))\n",
    "plt.title(\"Algorithm evaluations\")\n",
    "plt.xlabel(r\"$\\rho$\")\n",
    "plt.ylabel(\"Number\")"
   ]
  },
  {
   "cell_type": "code",
   "execution_count": null,
   "metadata": {
    "ExecuteTime": {
     "start_time": "2019-05-22T23:56:59.596Z"
    }
   },
   "outputs": [],
   "source": [
    "def tokey(rho, ps):\n",
    "    return f\"{'y'.join(map(str,ps))}r{rho}\"\n",
    "getx = fitter.ca.Function(\"getx\", [solver.models[0].ts, *solver.models[0].cs], solver.models[0].xs)\n",
    "    "
   ]
  },
  {
   "cell_type": "code",
   "execution_count": null,
   "metadata": {
    "ExecuteTime": {
     "start_time": "2019-05-22T23:56:59.598Z"
    }
   },
   "outputs": [],
   "source": [
    "target_rho = 1e-06\n",
    "c_end = solver.problems[0].cache.results[tokey(target_rho, solver.solutions[str(target_rho)][0].x)].x\n",
    "print(solver.solutions[str(target_rho)][0].x)\n",
    "xs_end = np.array([np.array(i) for i in getx(solver.models[0].observation_times, \n",
    "                                         *fitter.argsplit(c_end, \n",
    "                                                          3)\n",
    "                                        )])\n",
    "print(xs_end[:,0].T)\n",
    "print(xs_end[:,-9].T)\n",
    "plt.plot(solver.models[0].observation_times, np.hstack([xs_end[0], xs_end[1], xs_end[2]]),\n",
    "         context.datasets[0]['t'], context.datasets[0]['x'], 'o',\n",
    "         context.datasets[0]['t'], context.datasets[0]['z'], 'o')\n",
    "plt.legend(list(\"xyz\") + [\"x (data)\", \"z (data)\"], loc=\"best\", bbox_to_anchor=(1.01, 1))\n",
    "plt.xlabel(\"time, t\")"
   ]
  },
  {
   "cell_type": "code",
   "execution_count": null,
   "metadata": {
    "ExecuteTime": {
     "start_time": "2019-05-22T23:56:59.600Z"
    }
   },
   "outputs": [],
   "source": [
    "spline_dfield = np.array([context.model(t, xs_end[:,i], solver.solutions[str(target_rho)][0].x) \n",
    "                 for i,t in enumerate(model.observation_times)])\n",
    "\n",
    "spline_dfield = spline_dfield.reshape(spline_dfield.shape[:2])\n",
    "\n",
    "plt.plot(xs_end[0], xs_end[2], 'o-')\n",
    "plt.plot(context.datasets[0]['x'], context.datasets[0]['z'], 'o--', alpha=0.65)\n",
    "plt.quiver(xs_end[0], xs_end[2], spline_dfield[:,0], spline_dfield[:,2], \n",
    "           scale=None, angles='xy', headwidth=3, headlength=4.5, headaxislength=4, width=0.0025)\n",
    "plt.title(f\"Gradients on Spline, $\\\\rho$ = {target_rho} (Data superimposed)\")\n",
    "plt.xlabel(\"x\")\n",
    "plt.ylabel(\"z\")\n",
    "plt.legend([\"Spline\", \"Data\", \"Gradients\"])"
   ]
  },
  {
   "cell_type": "code",
   "execution_count": null,
   "metadata": {
    "ExecuteTime": {
     "start_time": "2019-05-22T23:56:59.602Z"
    }
   },
   "outputs": [],
   "source": [
    "plt.plot(xs_end[0], xs_end[1], 'o-')\n",
    "plt.quiver(xs_end[0], xs_end[1], spline_dfield[:,0], spline_dfield[:,1], \n",
    "           scale=None, angles='xy', headwidth=3, headlength=4.5, headaxislength=4, width=0.0025)\n",
    "plt.title(f\"Gradients on Spline, $\\\\rho$ = {target_rho}\")\n",
    "plt.xlabel(\"x\")\n",
    "plt.ylabel(\"y\")\n",
    "plt.legend([\"Spline\", \"Gradients\"])"
   ]
  },
  {
   "cell_type": "code",
   "execution_count": null,
   "metadata": {
    "ExecuteTime": {
     "start_time": "2019-05-22T23:56:59.603Z"
    }
   },
   "outputs": [],
   "source": [
    "tf_fn = lambda r, v: solver.inner_objectives[0].inner_criterion_fn(solver.models[0].observation_times,\n",
    "                                                                 *fitter.argsplit(solver.problems[0].cache.results[tokey(r, v)].x, 3),\n",
    "                                                                 *v,\n",
    "                                                                 solver.inner_objectives[0].generate_collocation_matrix(context.datasets[0], solver.models[0]),\n",
    "                                                                 len(context.datasets[0]['t']),\n",
    "                                                                 *solver.inner_objectives[0].pad_observations(context.datasets[0]['y']),\n",
    "                                                                 r)\n",
    "tf_values = np.array([[r, tf_fn(r, v)] for r, v in zip(rhos, vals)])"
   ]
  },
  {
   "cell_type": "code",
   "execution_count": null,
   "metadata": {
    "ExecuteTime": {
     "start_time": "2019-05-22T23:56:59.604Z"
    }
   },
   "outputs": [],
   "source": [
    "oo_fn = lambda r, v: solver.inner_objectives[0]._obj_fn1(solver.models[0].observation_times,\n",
    "                                                         *fitter.argsplit(solver.problems[0].cache.results[tokey(r, v)].x, 3),\n",
    "                                                         *v,\n",
    "                                                         solver.inner_objectives[0].generate_collocation_matrix(context.datasets[0], solver.models[0]),\n",
    "                                                         len(context.datasets[0]['t']),\n",
    "                                                         *solver.inner_objectives[0].pad_observations(context.datasets[0]['y']),\n",
    "                                                         r)\n",
    "datafit_values = np.array([[r, oo_fn(r, v)] for r, v in zip(rhos, vals)])"
   ]
  },
  {
   "cell_type": "code",
   "execution_count": null,
   "metadata": {
    "ExecuteTime": {
     "start_time": "2019-05-22T23:56:59.605Z"
    }
   },
   "outputs": [],
   "source": [
    "dfield_fn = lambda r, v: solver.inner_objectives[0]._obj_fn2(solver.models[0].observation_times,\n",
    "                                                             *fitter.argsplit(solver.problems[0].cache.results[tokey(r, v)].x, 3),\n",
    "                                                             *v,\n",
    "                                                             solver.inner_objectives[0].generate_collocation_matrix(context.datasets[0], solver.models[0]),\n",
    "                                                             len(context.datasets[0]['t']),\n",
    "                                                             *solver.inner_objectives[0].pad_observations(context.datasets[0]['y']),\n",
    "                                                             r)\n",
    "\n",
    "dfield_direct = np.array([[r, dfield_fn(r, v)] for r, v in zip(rhos, vals)])"
   ]
  },
  {
   "cell_type": "code",
   "execution_count": null,
   "metadata": {
    "ExecuteTime": {
     "start_time": "2019-05-22T23:56:59.607Z"
    }
   },
   "outputs": [],
   "source": [
    "plt.loglog(*datafit_values.T, 'o--', linewidth=0.25)\n",
    "plt.title(\"Data Fit Function Values by Algorithm Parameter\")\n",
    "plt.xlabel(r\"$\\rho$, Model Weighting Parameter\")"
   ]
  },
  {
   "cell_type": "code",
   "execution_count": null,
   "metadata": {
    "ExecuteTime": {
     "start_time": "2019-05-22T23:56:59.608Z"
    }
   },
   "outputs": [],
   "source": [
    "plt.loglog(*dfield_direct.T, 'o--', linewidth=0.25)\n",
    "plt.title(\"Gradient Field Discrepancy\")\n",
    "plt.xlabel(r\"$\\rho$, Model Weighting Parameter\")"
   ]
  },
  {
   "cell_type": "code",
   "execution_count": null,
   "metadata": {
    "ExecuteTime": {
     "start_time": "2019-05-22T23:56:59.609Z"
    },
    "scrolled": false
   },
   "outputs": [],
   "source": [
    "plt.loglog(datafit_values[:,1], dfield_direct[:,1], '--o', linewidth=0.25)\n",
    "plt.xlabel(\"Data Fit\")\n",
    "plt.ylabel(\"Diff Field\")"
   ]
  },
  {
   "cell_type": "code",
   "execution_count": null,
   "metadata": {
    "ExecuteTime": {
     "start_time": "2019-05-22T23:56:59.610Z"
    }
   },
   "outputs": [],
   "source": [
    "from scipy import interpolate\n",
    "smooth_outer = interpolate.UnivariateSpline(np.log10(rhos), np.log10(datafit_values[:,1]), s=3)\n",
    "souter =  np.array([10**x for x in smooth_outer(np.log10(rhos))])\n",
    "smooth_dfield = interpolate.UnivariateSpline(np.log10(rhos), np.log10(dfield_direct[:,1]), s=4)\n",
    "sfield =  np.array([10**x for x in smooth_dfield(np.log10(rhos))])\n",
    "\n",
    "fig, axs = plt.subplots(ncols=2)\n",
    "axs[0].loglog(rhos, souter, rhos, datafit_values[:,1], 'o')\n",
    "axs[0].xaxis.grid(True)\n",
    "axs[0].set_title(\"Outer Objective\")\n",
    "axs[1].loglog(rhos, sfield, rhos, dfield_direct[:,1], 'o')\n",
    "axs[1].xaxis.grid(True)\n",
    "axs[1].set_title(\"Gradient Field\")"
   ]
  },
  {
   "cell_type": "code",
   "execution_count": null,
   "metadata": {
    "ExecuteTime": {
     "start_time": "2019-05-22T23:56:59.611Z"
    }
   },
   "outputs": [],
   "source": [
    "plt.loglog(souter, sfield, '*--', datafit_values[:,1], dfield_direct[:,1], 'o--')\n",
    "plt.title(\"Smoothed vs Non-Smoothed L-Curve\")\n",
    "plt.xlabel(r\"Outer Objective Function $||y-{\\Phi}c||$\")\n",
    "plt.ylabel(r\"Vector Field Discrepancy $||D({\\Phi}c) - f({\\Phi}c; \\theta)||$\")\n",
    "plt.legend([\"Smoothed\", \"Non-Smoothed\"])"
   ]
  },
  {
   "cell_type": "code",
   "execution_count": null,
   "metadata": {
    "ExecuteTime": {
     "start_time": "2019-05-22T23:56:59.620Z"
    }
   },
   "outputs": [],
   "source": [
    "rhos_log_finer = np.linspace(np.log10(rhos[0]), np.log10(rhos[-1]), len(rhos)*5)\n",
    "\n",
    "curvs = []\n",
    "\n",
    "sx = smooth_outer(rhos_log_finer)\n",
    "sy = smooth_dfield(rhos_log_finer)\n",
    "\n",
    "for idx in range(1, len(rhos_log_finer)-1):\n",
    "    xs = sx[idx-1:idx+2]\n",
    "    ys = sy[idx-1:idx+2]\n",
    "    ps = np.vstack([xs,ys]).T\n",
    "    curvs.append(2*np.abs(np.cross(ps[1] - ps[0], ps[2]-ps[1]))/(\n",
    "            np.linalg.norm(ps[0]-ps[1])*np.linalg.norm(ps[1]-ps[2])*np.linalg.norm(ps[2]-ps[0])))\n",
    "\n",
    "plt.plot(rhos_log_finer[1:-1], np.array(curvs), 'o-')\n",
    "plt.title(\"L-Curve Curvature Plot (via Menger Curvature)\")\n",
    "plt.xlabel(r\"$\\log_{10}(\\rho)$\")\n",
    "plt.ylabel(r\"$\\kappa$\")"
   ]
  },
  {
   "cell_type": "code",
   "execution_count": null,
   "metadata": {
    "ExecuteTime": {
     "start_time": "2019-05-22T23:56:59.621Z"
    }
   },
   "outputs": [],
   "source": [
    "print(10 ** rhos_log_finer[np.argmax(curvs) + 1])"
   ]
  },
  {
   "cell_type": "code",
   "execution_count": null,
   "metadata": {
    "ExecuteTime": {
     "start_time": "2019-05-22T23:56:59.623Z"
    }
   },
   "outputs": [],
   "source": [
    "bfn = modeller.ca.Function('basis_fns', [solver.models[0].ts], [solver.models[0].basis])\n",
    "plt.plot(solver.models[0].observation_times, np.abs(np.hstack([xs_end[0]/max(abs(xs_end[0])), \n",
    "                                             xs_end[1]/max(abs(xs_end[1])), \n",
    "                                             xs_end[2]/max(abs(xs_end[2]))])),\n",
    "         linewidth=5)\n",
    "plt.plot(solver.models[0].observation_times, bfn(solver.models[0].observation_times), '--')\n",
    "plt.legend('xyz')\n",
    "[plt.axvline(x=i, color='m', linewidth=0.25, linestyle='--') for i in context.datasets[0]['t']]\n",
    "print(\"\")"
   ]
  },
  {
   "cell_type": "code",
   "execution_count": null,
   "metadata": {
    "ExecuteTime": {
     "start_time": "2019-05-22T23:56:59.624Z"
    }
   },
   "outputs": [],
   "source": [
    "rhos"
   ]
  }
 ],
 "metadata": {
  "@webio": {
   "lastCommId": "a8b05c322ece49548b9c1647bbf6a5b0",
   "lastKernelId": "df8cb42d-e927-497c-adca-281f3b14d646"
  },
  "kernelspec": {
   "display_name": "Python 3",
   "language": "python",
   "name": "python3"
  },
  "language_info": {
   "codemirror_mode": {
    "name": "ipython",
    "version": 3
   },
   "file_extension": ".py",
   "mimetype": "text/x-python",
   "name": "python",
   "nbconvert_exporter": "python",
   "pygments_lexer": "ipython3",
   "version": "3.6.7"
  }
 },
 "nbformat": 4,
 "nbformat_minor": 2
}
