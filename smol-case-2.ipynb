{
 "cells": [
  {
   "cell_type": "code",
   "execution_count": 1,
   "metadata": {
    "ExecuteTime": {
     "end_time": "2019-05-14T07:11:29.760546Z",
     "start_time": "2019-05-14T07:11:29.355469Z"
    }
   },
   "outputs": [],
   "source": [
    "import ingestor, modeller, fitter\n",
    "import numpy as np\n",
    "import matplotlib.pyplot as plt"
   ]
  },
  {
   "cell_type": "code",
   "execution_count": 2,
   "metadata": {
    "ExecuteTime": {
     "end_time": "2019-05-14T07:11:29.764588Z",
     "start_time": "2019-05-14T07:11:29.761986Z"
    }
   },
   "outputs": [],
   "source": [
    "plt.style.use('seaborn-notebook')\n",
    "plt.rc('text', usetex=True)\n",
    "plt.rc('font', family='serif')\n",
    "plt.rcParams['figure.figsize'] = [15, 10]"
   ]
  },
  {
   "cell_type": "code",
   "execution_count": 3,
   "metadata": {
    "ExecuteTime": {
     "end_time": "2019-05-14T07:11:29.774918Z",
     "start_time": "2019-05-14T07:11:29.765765Z"
    }
   },
   "outputs": [],
   "source": [
    "from cycler import cycler\n",
    "\n",
    "new_color = cycler(color=[\"k\"])\n",
    "plt.rcParams['axes.prop_cycle'] = plt.rcParams['axes.prop_cycle'].concat(new_color)"
   ]
  },
  {
   "cell_type": "code",
   "execution_count": 4,
   "metadata": {
    "ExecuteTime": {
     "end_time": "2019-05-14T07:11:29.782514Z",
     "start_time": "2019-05-14T07:11:29.776281Z"
    }
   },
   "outputs": [
    {
     "data": {
      "text/plain": [
       "<module 'ingestor' from '/media/dwu402/Data/wrap-mad/ingestor.py'>"
      ]
     },
     "execution_count": 4,
     "metadata": {},
     "output_type": "execute_result"
    }
   ],
   "source": [
    "from importlib import reload\n",
    "\n",
    "reload(fitter)\n",
    "reload(modeller)\n",
    "reload(ingestor)"
   ]
  },
  {
   "cell_type": "code",
   "execution_count": null,
   "metadata": {
    "ExecuteTime": {
     "start_time": "2019-05-14T07:11:29.374Z"
    }
   },
   "outputs": [],
   "source": [
    "context = ingestor.Context(\"runs/augmented_immune_ns.run\")"
   ]
  },
  {
   "cell_type": "code",
   "execution_count": null,
   "metadata": {
    "ExecuteTime": {
     "start_time": "2019-05-14T07:11:29.382Z"
    }
   },
   "outputs": [],
   "source": [
    "solver = fitter.Fitter(context)"
   ]
  },
  {
   "cell_type": "code",
   "execution_count": null,
   "metadata": {
    "ExecuteTime": {
     "start_time": "2019-05-14T07:11:29.387Z"
    }
   },
   "outputs": [],
   "source": [
    "for rhoi in np.logspace(-6, 8, num=57):\n",
    "    solver.solve(rhoi)\n",
    "    solver.problems[0].initial_guess = solver.solutions[str(rhoi)][-1].x"
   ]
  },
  {
   "cell_type": "markdown",
   "metadata": {},
   "source": [
    "# Validation"
   ]
  },
  {
   "cell_type": "code",
   "execution_count": null,
   "metadata": {
    "ExecuteTime": {
     "start_time": "2019-05-14T07:11:29.393Z"
    }
   },
   "outputs": [],
   "source": [
    "rhos = [float(rho) for rho in solver.solutions.keys()]\n",
    "vals = [val[0].x for val in solver.solutions.values()]\n",
    "plt.plot(rhos, vals, 'X-')\n",
    "plt.legend(\"rkpcsmdfgjl\", loc=\"best\", bbox_to_anchor=(1.01, 1))\n",
    "plt.xscale(\"log\")\n",
    "plt.yscale(\"log\", nonposy=\"mask\")"
   ]
  },
  {
   "cell_type": "code",
   "execution_count": null,
   "metadata": {
    "ExecuteTime": {
     "start_time": "2019-05-14T07:11:29.397Z"
    }
   },
   "outputs": [],
   "source": [
    "iters_list = np.array([[float(key), value[0].nit] for key, value in solver.solutions.items()])\n",
    "fevs_list = np.array([[float(key), value[0].nfev] for key, value in solver.solutions.items()])\n",
    "plt.semilogx(*iters_list.T, *fevs_list.T)\n",
    "\n",
    "low_iters = np.array([[k,v] for k,v in iters_list if v < 5])\n",
    "plt.plot(*low_iters.T, 'ro')\n",
    "\n",
    "plt.legend([\"niters\", \"nfev\", \"low iter\"], \n",
    "           loc=\"best\", bbox_to_anchor=(1.01, 1))\n",
    "plt.title(\"Algorithm evaluations\")\n",
    "plt.xlabel(r\"$\\rho$\")\n",
    "plt.ylabel(\"Number\")"
   ]
  },
  {
   "cell_type": "code",
   "execution_count": null,
   "metadata": {
    "ExecuteTime": {
     "start_time": "2019-05-14T07:11:29.407Z"
    }
   },
   "outputs": [],
   "source": [
    "def tokey(rho, ps):\n",
    "    return f\"{'y'.join(map(str,ps))}r{rho}\"\n",
    "getx = fitter.ca.Function(\"getx\", [solver.models[0].ts, *solver.models[0].cs], solver.models[0].xs)\n",
    "    "
   ]
  },
  {
   "cell_type": "code",
   "execution_count": null,
   "metadata": {
    "ExecuteTime": {
     "start_time": "2019-05-14T07:11:29.412Z"
    }
   },
   "outputs": [],
   "source": [
    "target_rho = 3.1622776601683795\n",
    "c_end = solver.problems[0].cache.results[tokey(target_rho, solver.solutions[str(target_rho)][0].x)].x\n",
    "print(solver.solutions[str(target_rho)][0].x)\n",
    "xs_end = np.array([np.array(i) for i in getx(solver.models[0].observation_times, \n",
    "                                         *fitter.argsplit(c_end, \n",
    "                                                          3)\n",
    "                                        )])\n",
    "print(xs_end[:,0].T)\n",
    "print(xs_end[:,6].T)\n",
    "plt.plot(solver.models[0].observation_times, np.hstack([xs_end[0], xs_end[1], xs_end[2]]),\n",
    "         context.datasets[0]['t'], context.datasets[0]['x'], 'o',\n",
    "         context.datasets[0]['t'], context.datasets[0]['z'], 'o')\n",
    "plt.legend(list(\"xyz\") + [\"x (data)\", \"z (data)\"], loc=\"best\", bbox_to_anchor=(1.01, 1))\n",
    "plt.xlabel(\"time, t\")"
   ]
  },
  {
   "cell_type": "code",
   "execution_count": null,
   "metadata": {
    "ExecuteTime": {
     "start_time": "2019-05-14T07:11:29.415Z"
    },
    "scrolled": false
   },
   "outputs": [],
   "source": [
    "spline_dfield = np.array([context.model(t, xs_end[:,i], solver.solutions[str(target_rho)][0].x) \n",
    "                 for i,t in enumerate(solver.models[0].observation_times)])\n",
    "\n",
    "spline_dfield = spline_dfield.reshape(spline_dfield.shape[:2])\n",
    "\n",
    "plt.plot(xs_end[0], xs_end[2], 'o-')\n",
    "plt.plot(context.datasets[0]['x'], context.datasets[0]['z'], 'o--', alpha=0.65)\n",
    "plt.quiver(xs_end[0], xs_end[2], spline_dfield[:,0], spline_dfield[:,2], \n",
    "           scale=None, angles='xy', headwidth=3, headlength=4.5, headaxislength=4, width=0.0025)\n",
    "plt.title(f\"Gradients on Spline, $\\\\rho$ = {target_rho} (Data superimposed)\")\n",
    "plt.xlabel(\"x\")\n",
    "plt.ylabel(\"z\")\n",
    "plt.legend([\"Spline\", \"Data\", \"Gradients\"])"
   ]
  },
  {
   "cell_type": "code",
   "execution_count": null,
   "metadata": {
    "ExecuteTime": {
     "start_time": "2019-05-14T07:11:29.419Z"
    }
   },
   "outputs": [],
   "source": [
    "plt.plot(xs_end[0], xs_end[1], 'o-')\n",
    "plt.quiver(xs_end[0], xs_end[1], spline_dfield[:,0], spline_dfield[:,1], \n",
    "           scale=None, angles='xy', headwidth=3, headlength=4.5, headaxislength=4, width=0.0025)\n",
    "plt.title(f\"Gradients on Spline, $\\\\rho$ = {target_rho}\")\n",
    "plt.xlabel(\"x\")\n",
    "plt.ylabel(\"y\")\n",
    "plt.legend([\"Spline\", \"Gradients\"])"
   ]
  },
  {
   "cell_type": "code",
   "execution_count": null,
   "metadata": {
    "ExecuteTime": {
     "start_time": "2019-05-14T07:11:29.423Z"
    }
   },
   "outputs": [],
   "source": [
    "tf_fn = lambda r, v: solver.inner_objectives[0].inner_criterion_fn(solver.models[0].observation_times,\n",
    "                                                                 *fitter.argsplit(solver.problems[0].cache.results[tokey(r, v)].x, 3),\n",
    "                                                                 *v,\n",
    "                                                                 solver.inner_objectives[0].generate_collocation_matrix(context.datasets[0], solver.models[0]),\n",
    "                                                                 len(context.datasets[0]['t']),\n",
    "                                                                 *solver.inner_objectives[0].pad_observations(context.datasets[0]['y']),\n",
    "                                                                 r)\n",
    "tf_values = np.array([[r, tf_fn(r, v)] for r, v in zip(rhos, vals)])"
   ]
  },
  {
   "cell_type": "code",
   "execution_count": null,
   "metadata": {
    "ExecuteTime": {
     "start_time": "2019-05-14T07:11:29.427Z"
    }
   },
   "outputs": [],
   "source": [
    "oo_fn = lambda r, v: solver.inner_objectives[0]._obj_fn1(solver.models[0].observation_times,\n",
    "                                                         *fitter.argsplit(solver.problems[0].cache.results[tokey(r, v)].x, 3),\n",
    "                                                         *v,\n",
    "                                                         solver.inner_objectives[0].generate_collocation_matrix(context.datasets[0], solver.models[0]),\n",
    "                                                         len(context.datasets[0]['t']),\n",
    "                                                         *solver.inner_objectives[0].pad_observations(context.datasets[0]['y']),\n",
    "                                                         r)\n",
    "datafit_values = np.array([[r, oo_fn(r, v)] for r, v in zip(rhos, vals)])"
   ]
  },
  {
   "cell_type": "code",
   "execution_count": null,
   "metadata": {
    "ExecuteTime": {
     "start_time": "2019-05-14T07:11:29.429Z"
    }
   },
   "outputs": [],
   "source": [
    "plt.loglog(*datafit_values.T, 'o--', linewidth=0.25)\n",
    "plt.title(\"Data Fit Function Values by Algorithm Parameter\")\n",
    "plt.xlabel(r\"$\\rho$, Model Weighting Parameter\")"
   ]
  },
  {
   "cell_type": "code",
   "execution_count": null,
   "metadata": {
    "ExecuteTime": {
     "start_time": "2019-05-14T07:11:29.432Z"
    }
   },
   "outputs": [],
   "source": [
    "dfield_fn = lambda r, v: solver.inner_objectives[0]._obj_fn2(solver.models[0].observation_times,\n",
    "                                                             *fitter.argsplit(solver.problems[0].cache.results[tokey(r, v)].x, 3),\n",
    "                                                             *v,\n",
    "                                                             solver.inner_objectives[0].generate_collocation_matrix(context.datasets[0], solver.models[0]),\n",
    "                                                             len(context.datasets[0]['t']),\n",
    "                                                             *solver.inner_objectives[0].pad_observations(context.datasets[0]['y']),\n",
    "                                                             r)\n",
    "\n",
    "dfield_direct = np.array([[r, dfield_fn(r, v)] for r, v in zip(rhos, vals)])"
   ]
  },
  {
   "cell_type": "code",
   "execution_count": null,
   "metadata": {
    "ExecuteTime": {
     "start_time": "2019-05-14T07:11:29.440Z"
    }
   },
   "outputs": [],
   "source": [
    "plt.loglog(*dfield_direct.T, 'o--', linewidth=0.25)\n",
    "plt.title(\"Gradient Field Discrepancy\")\n",
    "plt.xlabel(r\"$\\rho$, Model Weighting Parameter\")"
   ]
  },
  {
   "cell_type": "code",
   "execution_count": null,
   "metadata": {
    "ExecuteTime": {
     "start_time": "2019-05-14T07:11:29.442Z"
    }
   },
   "outputs": [],
   "source": [
    "plt.loglog(datafit_values[:,1], dfield_direct[:,1], '--o', linewidth=0.25)\n",
    "plt.xlabel(\"Data Fit\")\n",
    "plt.ylabel(\"Diff Field\")"
   ]
  },
  {
   "cell_type": "code",
   "execution_count": null,
   "metadata": {
    "ExecuteTime": {
     "start_time": "2019-05-14T07:11:29.443Z"
    },
    "scrolled": false
   },
   "outputs": [],
   "source": [
    "curv_dx = np.gradient(np.log(datafit_values[:,1]))\n",
    "curv_dy = np.gradient(np.log(dfield_direct[:,1]))\n",
    "curv_dx2 = np.gradient(curv_dx)\n",
    "curv_dy2 = np.gradient(curv_dy)\n",
    "\n",
    "kappa = np.abs(curv_dx*curv_dy2 - curv_dy*curv_dx2)/(curv_dx**2 + curv_dy**2)**(3/2)\n",
    "\n",
    "plt.loglog(rhos, kappa)\n",
    "plt.title(\"L-Curve Curvature Plot\")\n",
    "plt.xlabel(r\"$\\rho$\")\n",
    "plt.ylabel(r\"$\\kappa$\")"
   ]
  },
  {
   "cell_type": "markdown",
   "metadata": {},
   "source": [
    "## Odd Validation"
   ]
  },
  {
   "cell_type": "code",
   "execution_count": null,
   "metadata": {
    "ExecuteTime": {
     "start_time": "2019-05-14T07:11:29.445Z"
    }
   },
   "outputs": [],
   "source": [
    "bfn = modeller.ca.Function('basis_fns', [solver.models[0].ts], [solver.models[0].basis])\n",
    "plt.plot(solver.models[0].observation_times, np.abs(np.hstack([xs_end[0]/max(abs(xs_end[0])), \n",
    "                                             xs_end[1]/max(abs(xs_end[1])), \n",
    "                                             xs_end[2]/max(abs(xs_end[2]))])),\n",
    "         linewidth=5)\n",
    "plt.plot(solver.models[0].observation_times, bfn(solver.models[0].observation_times), '--')\n",
    "plt.legend('xyz')\n",
    "[plt.axvline(x=i, color='m', linewidth=0.25, linestyle='--') for i in context.datasets[0]['t']]\n",
    "print(\"\")"
   ]
  },
  {
   "cell_type": "code",
   "execution_count": null,
   "metadata": {
    "ExecuteTime": {
     "start_time": "2019-05-14T07:11:29.447Z"
    }
   },
   "outputs": [],
   "source": [
    "# generate a crude correlation plot\n",
    "\n",
    "import pandas as pd\n",
    "\n",
    "results = pd.DataFrame({r\"$\\rho$\": np.log(rhos)})\n",
    "for idx, name in enumerate(\"rkpcsmdfgjl\"):\n",
    "    results[name] = [v[idx] for v in vals]\n",
    "    "
   ]
  },
  {
   "cell_type": "code",
   "execution_count": null,
   "metadata": {
    "ExecuteTime": {
     "start_time": "2019-05-14T07:11:29.455Z"
    },
    "scrolled": true
   },
   "outputs": [],
   "source": [
    "plt.imshow(np.abs(results.corr()))\n",
    "plt.colorbar()\n",
    "plt.xticks(range(12), [r\"$\\rho$\"] + list(\"rkpcsmdfgjl\"))\n",
    "plt.yticks(range(12), [r\"$\\rho$\"] + list(\"rkpcsmdfgjl\"))\n",
    "plt.grid(False)"
   ]
  },
  {
   "cell_type": "code",
   "execution_count": null,
   "metadata": {
    "ExecuteTime": {
     "start_time": "2019-05-14T07:11:29.458Z"
    },
    "scrolled": true
   },
   "outputs": [],
   "source": [
    "ax = pd.plotting.scatter_matrix(results)\n",
    "for a in ax.flatten():\n",
    "    a.grid(False)"
   ]
  },
  {
   "cell_type": "markdown",
   "metadata": {},
   "source": [
    "## Smoothing Experiments"
   ]
  },
  {
   "cell_type": "code",
   "execution_count": null,
   "metadata": {
    "ExecuteTime": {
     "start_time": "2019-05-14T07:11:29.462Z"
    }
   },
   "outputs": [],
   "source": [
    "from scipy import interpolate"
   ]
  },
  {
   "cell_type": "code",
   "execution_count": null,
   "metadata": {
    "ExecuteTime": {
     "start_time": "2019-05-14T07:11:29.463Z"
    }
   },
   "outputs": [],
   "source": [
    "smooth_outer = interpolate.UnivariateSpline(np.log10(rhos), np.log10(datafit_values[:,1]), s=10)\n",
    "souter =  np.array([10**x for x in smooth_outer(np.log10(rhos))])\n",
    "plt.loglog(rhos, souter, rhos, datafit_values[:,1], 'o')\n",
    "plt.gca().xaxis.grid(True)"
   ]
  },
  {
   "cell_type": "code",
   "execution_count": null,
   "metadata": {
    "ExecuteTime": {
     "start_time": "2019-05-14T07:11:29.465Z"
    }
   },
   "outputs": [],
   "source": [
    "smooth_dfield = interpolate.UnivariateSpline(np.log10(rhos), np.log10(dfield_direct[:,1]), s=100)\n",
    "sfield =  np.array([10**x for x in smooth_dfield(np.log10(rhos))])\n",
    "plt.loglog(rhos, sfield, rhos, dfield_direct[:,1], 'o')\n",
    "plt.gca().xaxis.grid(True)"
   ]
  },
  {
   "cell_type": "code",
   "execution_count": null,
   "metadata": {
    "ExecuteTime": {
     "start_time": "2019-05-14T07:11:29.466Z"
    }
   },
   "outputs": [],
   "source": [
    "rhos_log_finer = np.linspace(np.log10(rhos[0]), np.log10(rhos[-1]), len(rhos)*5)\n",
    "sx = smooth_outer(rhos_log_finer)\n",
    "sy = smooth_dfield(rhos_log_finer)\n",
    "plottable_sx = 10**sx\n",
    "plottable_sy = 10**sy"
   ]
  },
  {
   "cell_type": "code",
   "execution_count": null,
   "metadata": {
    "ExecuteTime": {
     "start_time": "2019-05-14T07:11:29.469Z"
    }
   },
   "outputs": [],
   "source": [
    "fig = plt.figure()\n",
    "ax1 = fig.add_subplot(211)\n",
    "ax2 = fig.add_subplot(212)\n",
    "ax1.plot(rhos_log_finer, sx)\n",
    "ax2.plot(rhos_log_finer, sy)\n",
    "ax1.set_ylabel(\"Data Fit\")\n",
    "ax2.set_ylabel(\"Gradient Field Discrepancy\")"
   ]
  },
  {
   "cell_type": "code",
   "execution_count": null,
   "metadata": {
    "ExecuteTime": {
     "start_time": "2019-05-14T07:11:29.473Z"
    }
   },
   "outputs": [],
   "source": [
    "plt.loglog(plottable_sx, plottable_sy, '*--', datafit_values[:,1], dfield_direct[:,1], 'o--')\n",
    "plt.title(\"Smoothed vs Non-Smoothed L-Curve\")\n",
    "plt.xlabel(r\"Fit to Data $||y-{\\Phi}c||$\")\n",
    "plt.ylabel(r\"Vector Field Discrepancy $||D({\\Phi}c) - f({\\Phi}c; \\theta)||$\")\n",
    "plt.legend([\"Smoothed\", \"Non-Smoothed\"])\n",
    "\n",
    "plt.loglog(plottable_sx[np.argmin(np.abs(rhos_log_finer - 2.5))],\n",
    "           plottable_sy[np.argmin(np.abs(rhos_log_finer - 2.5))],\n",
    "           'ro',\n",
    "           datafit_values[np.argmin(np.abs(np.array(rhos) - 5)), 1],\n",
    "           dfield_direct[np.argmin(np.abs(np.array(rhos) - 5)), 1], \n",
    "           'ko')"
   ]
  },
  {
   "cell_type": "code",
   "execution_count": null,
   "metadata": {
    "ExecuteTime": {
     "start_time": "2019-05-14T07:11:29.474Z"
    }
   },
   "outputs": [],
   "source": [
    "# ? curvature\n",
    "f_dx = smooth_outer.derivative(1)\n",
    "f_dy = smooth_dfield.derivative(1)\n",
    "f_dx2 = smooth_outer.derivative(2)\n",
    "f_dy2 = smooth_dfield.derivative(2)\n",
    "\n",
    "scurv_dx = f_dx(rhos_log_finer)\n",
    "scurv_dy = f_dy(rhos_log_finer)\n",
    "scurv_dx2 = f_dx2(rhos_log_finer)\n",
    "scurv_dy2 = f_dy2(rhos_log_finer)\n",
    "\n",
    "kappa_fine = scurv_dx*scurv_dy2 - scurv_dy*scurv_dx2/(scurv_dx**2 + scurv_dy**2)**(3/2)\n",
    "\n",
    "plt.semilogy(rhos_log_finer, kappa_fine, 'o-')\n",
    "plt.title(\"L-Curve Curvature Plot\")\n",
    "plt.xlabel(r\"$\\log_{10}(\\rho)$\")\n",
    "plt.ylabel(r\"$\\kappa$\")"
   ]
  },
  {
   "cell_type": "code",
   "execution_count": null,
   "metadata": {
    "ExecuteTime": {
     "start_time": "2019-05-14T07:11:29.476Z"
    },
    "scrolled": false
   },
   "outputs": [],
   "source": [
    "# menger curvature\n",
    "curvs = []\n",
    "\n",
    "for idx in range(1, len(rhos_log_finer)-1):\n",
    "    xs = sx[idx-1:idx+2]\n",
    "    ys = sy[idx-1:idx+2]\n",
    "    ps = np.vstack([xs,ys]).T\n",
    "    curvs.append(2*np.abs(np.cross(ps[1] - ps[0], ps[2]-ps[1]))/(\n",
    "            np.linalg.norm(ps[0]-ps[1])*np.linalg.norm(ps[1]-ps[2])*np.linalg.norm(ps[2]-ps[0])))\n",
    "\n",
    "plt.semilogy(rhos_log_finer[1:-1], np.array(curvs), 'o-')\n",
    "plt.title(\"L-Curve Curvature Plot (via Menger Curvature)\")\n",
    "plt.xlabel(r\"$\\log_{10}(\\rho)$\")\n",
    "plt.ylabel(r\"$\\kappa$\")"
   ]
  },
  {
   "cell_type": "code",
   "execution_count": null,
   "metadata": {
    "ExecuteTime": {
     "start_time": "2019-05-14T07:11:29.478Z"
    }
   },
   "outputs": [],
   "source": [
    "# implement the heuristic measurement\n",
    "origin  = (0,0)\n",
    "xy = np.array(list(zip(plottable_sx, plottable_sy)))\n",
    "distances = [np.linalg.norm(xyi) for xyi in xy]\n",
    "plt.plot(rhos_log_finer, [1/d for d in distances])"
   ]
  },
  {
   "cell_type": "code",
   "execution_count": null,
   "metadata": {
    "ExecuteTime": {
     "start_time": "2019-05-14T07:11:29.480Z"
    }
   },
   "outputs": [],
   "source": [
    "# implement a GM heuristic\n",
    "xy = np.array(list(zip(plottable_sx, plottable_sy)))\n",
    "gmdistances = [np.sqrt(np.prod(xyi)) for xyi in xy]\n",
    "plt.plot(rhos_log_finer, [1/g for g in gmdistances])"
   ]
  },
  {
   "cell_type": "code",
   "execution_count": null,
   "metadata": {
    "ExecuteTime": {
     "start_time": "2019-05-14T07:11:29.482Z"
    }
   },
   "outputs": [],
   "source": [
    "tot_heur = 1/np.sum([gmdistances,distances], axis=0)\n",
    "plt.plot(rhos_log_finer, tot_heur)"
   ]
  },
  {
   "cell_type": "code",
   "execution_count": null,
   "metadata": {
    "ExecuteTime": {
     "start_time": "2019-05-14T07:11:29.483Z"
    },
    "scrolled": false
   },
   "outputs": [],
   "source": [
    "observable_x = solver.inner_objectives[0].generate_collocation_matrix(context.datasets[0], solver.models[0])@xs_end[0]\n",
    "observable_z = solver.inner_objectives[0].generate_collocation_matrix(context.datasets[0], solver.models[0])@xs_end[2]\n",
    "\n",
    "x_err = np.abs(observable_x.T - np.array(context.datasets[0]['x'])).reshape(-1,)\n",
    "z_err = np.abs(observable_z.T - np.array(context.datasets[0]['z'])).reshape(-1,)\n",
    "\n",
    "t = np.array(context.datasets[0]['t'])\n",
    "\n",
    "plt.plot(t, x_err, t, z_err)\n",
    "print(f\"{np.mean(x_err)} : {np.std(x_err)}\")\n",
    "print(f\"{np.mean(z_err)} : {np.std(z_err)}\")\n"
   ]
  },
  {
   "cell_type": "code",
   "execution_count": null,
   "metadata": {
    "ExecuteTime": {
     "start_time": "2019-05-14T07:11:29.485Z"
    }
   },
   "outputs": [],
   "source": [
    "x0, y0 = xs_end[[0,2], :]\n",
    "xscale = np.mean(x_err) + 1.96*np.std(x_err)\n",
    "zscale = np.mean(z_err) + 1.96*np.std(z_err)\n",
    "circle_x, circle_y = [x0 + xscale*np.cos(np.linspace(0, 2*np.pi, 50)), y0 + zscale*np.sin(np.linspace(0, 2*np.pi, 50))]\n",
    "\n",
    "plt.plot(xs_end[0], xs_end[2])\n",
    "plt.plot(context.datasets[0]['x'], context.datasets[0]['z'], 'o--', alpha=0.65)\n",
    "plt.plot(circle_x, circle_y, 'ko', alpha=0.2)\n",
    "print('')\n"
   ]
  },
  {
   "cell_type": "code",
   "execution_count": null,
   "metadata": {
    "ExecuteTime": {
     "start_time": "2019-05-14T07:11:29.490Z"
    }
   },
   "outputs": [],
   "source": [
    "## Use heuristic to estimate the \"ideal\" parameter\n",
    "maximus = 10**rhos_log_finer[np.argmax(tot_heur)+1]\n",
    "print(f\"{maximus}\\n is the spike\")\n",
    "closest_rho = rhos[np.argmin(np.abs(rhos-maximus))]\n",
    "print(f\"{closest_rho}\\n is the closest\")"
   ]
  },
  {
   "cell_type": "markdown",
   "metadata": {},
   "source": [
    "## Analysis"
   ]
  },
  {
   "cell_type": "code",
   "execution_count": null,
   "metadata": {
    "ExecuteTime": {
     "start_time": "2019-05-14T07:11:29.493Z"
    }
   },
   "outputs": [],
   "source": [
    "r,k,p,m,s,c,d,f,g,j,l = solver.solutions[str(target_rho)][0].x\n",
    "characteristic1 = np.roots([-d, s, 0, -d*c*c*c, 0])\n",
    "temp_alpha = (s*r*r*r)/(c*c*c*k*k*k+r*r*r) - d*r/k\n",
    "characteristic2 = np.roots([temp_alpha, p, m*m*temp_alpha])\n",
    "\n",
    "# these are the values of gamma and xi\n",
    "print(characteristic1)\n",
    "print(characteristic2)\n",
    "\n",
    "eq_values1 = l*characteristic1/(f*characteristic1 - g)\n",
    "eq_values2 = (j*k*characteristic2 + l*r)/(f*r-g*k)\n",
    "\n",
    "print(eq_values1)\n",
    "print(eq_values2)\n",
    "\n",
    "rk = r/k\n",
    "\n",
    "def is_stable(point):\n",
    "    x,y,z = point\n",
    "    G = f*y-g\n",
    "    A = r-k*y\n",
    "    B = -k*x\n",
    "    C = p/(m**2+x**2) - (2*p*x**2)/(m**2+x**2)**2\n",
    "    D = (3*s*y**2)/(c**3 + y**3) - d - (3*s*y**5)/(c**3 + y**3)**2\n",
    "    character = (G<0, (A+D)<0 , A*D-B*C>0)\n",
    "    if all(character):\n",
    "        return \"z-xy\"\n",
    "    elif character[0:3:2] == (True, False):\n",
    "        return \"z-saddle\"\n",
    "    elif character == (False, True, True):\n",
    "        return \"unstable-xy\"\n",
    "    elif character[0]:\n",
    "        return \"z-unstable\"\n",
    "    else:\n",
    "        return \"unstable-unstable\"\n",
    "    \n",
    "stabilities1 = [is_stable([0, ch, eq]) for ch, eq in zip(characteristic1, eq_values1)]\n",
    "stabilities2 = [is_stable([ch, rk, eq]) for ch, eq in zip(characteristic2, eq_values2)]\n",
    "\n",
    "print(stabilities1)\n",
    "print(stabilities2)\n",
    "\n",
    "plt.plot([0]*len(eq_values1[np.isreal(eq_values1)]), eq_values1[np.isreal(eq_values1)], 'ro')\n",
    "plt.plot(characteristic2[np.isreal(eq_values2)], eq_values2[np.isreal(eq_values2)], 'ro')\n",
    "\n",
    "print(f*r/k-g)"
   ]
  },
  {
   "cell_type": "markdown",
   "metadata": {},
   "source": [
    "# Utilities"
   ]
  },
  {
   "cell_type": "code",
   "execution_count": null,
   "metadata": {
    "ExecuteTime": {
     "start_time": "2019-05-14T07:11:29.495Z"
    },
    "scrolled": true
   },
   "outputs": [],
   "source": [
    "solver.solutions"
   ]
  },
  {
   "cell_type": "code",
   "execution_count": null,
   "metadata": {
    "ExecuteTime": {
     "start_time": "2019-05-14T07:11:29.497Z"
    },
    "scrolled": false
   },
   "outputs": [],
   "source": [
    "rhos"
   ]
  }
 ],
 "metadata": {
  "@webio": {
   "lastCommId": "d41d91ebed14400b953dbbf43dc4699c",
   "lastKernelId": "d7890c90-086d-487e-97ef-de540085bc28"
  },
  "kernelspec": {
   "display_name": "Python 3",
   "language": "python",
   "name": "python3"
  },
  "language_info": {
   "codemirror_mode": {
    "name": "ipython",
    "version": 3
   },
   "file_extension": ".py",
   "mimetype": "text/x-python",
   "name": "python",
   "nbconvert_exporter": "python",
   "pygments_lexer": "ipython3",
   "version": "3.6.7"
  }
 },
 "nbformat": 4,
 "nbformat_minor": 2
}
