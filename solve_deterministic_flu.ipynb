{
 "cells": [
  {
   "cell_type": "code",
   "execution_count": 1,
   "metadata": {},
   "outputs": [],
   "source": [
    "#!sage"
   ]
  },
  {
   "cell_type": "code",
   "execution_count": 24,
   "metadata": {},
   "outputs": [
    {
     "data": {
      "text/plain": [
       "[mu > 0, gamma > 0, alpha > 0, p > 0, v > 0, gamma != mu]"
      ]
     },
     "execution_count": 24,
     "metadata": {},
     "output_type": "execute_result"
    }
   ],
   "source": [
    "mu, gm, al, bt, v = var(\"mu gamma alpha p v\")\n",
    "S, I = var(\"S I\")\n",
    "\n",
    "assume(mu>0, gm>0, al>0, p>0, v>0)\n",
    "\n",
    "assumptions()"
   ]
  },
  {
   "cell_type": "code",
   "execution_count": 43,
   "metadata": {},
   "outputs": [
    {
     "data": {
      "text/html": [
       "<html><script type=\"math/tex; mode=display\">\\newcommand{\\Bold}[1]{\\mathbf{#1}}-\\frac{I S {\\left(\\alpha + \\mu\\right)} {\\left(\\gamma + \\mu + v\\right)} p}{\\gamma + \\mu} - S {\\left(\\gamma + \\mu + v\\right)} - I \\gamma + \\gamma + \\mu</script></html>"
      ],
      "text/plain": [
       "-I*S*(alpha + mu)*(gamma + mu + v)*p/(gamma + mu) - S*(gamma + mu + v) - I*gamma + gamma + mu"
      ]
     },
     "metadata": {},
     "output_type": "display_data"
    },
    {
     "data": {
      "text/html": [
       "<html><script type=\"math/tex; mode=display\">\\newcommand{\\Bold}[1]{\\mathbf{#1}}{\\left(\\frac{S {\\left(\\alpha + \\mu\\right)} {\\left(\\gamma + \\mu + v\\right)} p}{\\gamma + \\mu} - \\alpha - \\mu\\right)} I</script></html>"
      ],
      "text/plain": [
       "(S*(alpha + mu)*(gamma + mu + v)*p/(gamma + mu) - alpha - mu)*I"
      ]
     },
     "metadata": {},
     "output_type": "display_data"
    },
    {
     "data": {
      "text/html": [
       "<html><script type=\"math/tex; mode=display\">\\newcommand{\\Bold}[1]{\\mathbf{#1}}\\left[\\left[S = \\frac{\\gamma + \\mu}{\\gamma + \\mu + v}, I = 0\\right], \\left[S = \\frac{\\gamma + \\mu}{{\\left(\\gamma + \\mu\\right)} p + p v}, I = \\frac{{\\left(\\gamma + \\mu\\right)} p - \\gamma - \\mu}{{\\left(\\alpha + \\gamma + \\mu\\right)} p}\\right]\\right]</script></html>"
      ],
      "text/plain": [
       "[[S == (gamma + mu)/(gamma + mu + v), I == 0], [S == (gamma + mu)/((gamma + mu)*p + p*v), I == ((gamma + mu)*p - gamma - mu)/((alpha + gamma + mu)*p)]]"
      ]
     },
     "metadata": {},
     "output_type": "display_data"
    }
   ],
   "source": [
    "bt = (mu+al)*p*(mu+gm+v)/(mu+gm)\n",
    "\n",
    "dS = (mu+gm)-(mu+gm+v)*S-gm*I-bt*S*I\n",
    "dI = I*(-mu-al+bt*S)\n",
    "\n",
    "pretty_print(dS)\n",
    "pretty_print(dI)\n",
    "\n",
    "fixed_points = solve([dS, dI], [S, I])\n",
    "pretty_print(fixed_points)"
   ]
  },
  {
   "cell_type": "code",
   "execution_count": 56,
   "metadata": {},
   "outputs": [
    {
     "data": {
      "text/html": [
       "<html><script type=\"math/tex; mode=display\">\\newcommand{\\Bold}[1]{\\mathbf{#1}}\\left[S = \\frac{\\alpha + \\mu}{\\beta}, I = -\\frac{{\\left(\\alpha - \\beta\\right)} \\gamma + {\\left(\\alpha - \\beta + \\gamma\\right)} \\mu + \\mu^{2} + {\\left(\\alpha + \\mu\\right)} v}{\\alpha \\beta + \\beta \\gamma + \\beta \\mu}\\right]</script></html>"
      ],
      "text/plain": [
       "[S == (alpha + mu)/beta,\n",
       " I == -((alpha - beta)*gamma + (alpha - beta + gamma)*mu + mu^2 + (alpha + mu)*v)/(alpha*beta + beta*gamma + beta*mu)]"
      ]
     },
     "metadata": {},
     "output_type": "display_data"
    }
   ],
   "source": [
    "beta = var(\"beta\")\n",
    "pretty_print([fpi.substitute(p==beta/(mu+al)/(mu+gm+v)*(mu+gm)).simplify_full() for fpi in fixed_points[1]])"
   ]
  },
  {
   "cell_type": "code",
   "execution_count": 44,
   "metadata": {},
   "outputs": [],
   "source": [
    "J = matrix([[dS.diff(S), dS.diff(I)], [dI.diff(S), dI.diff(I)]])\n",
    "detJ = J.determinant()\n",
    "trJ = J.trace()"
   ]
  },
  {
   "cell_type": "code",
   "execution_count": 21,
   "metadata": {},
   "outputs": [
    {
     "data": {
      "text/html": [
       "<html><script type=\"math/tex; mode=display\">\\newcommand{\\Bold}[1]{\\mathbf{#1}}\\left(\\begin{array}{rr}\n",
       "-\\frac{I {\\left(\\alpha + \\mu\\right)} {\\left(\\gamma + \\mu + v\\right)} p}{\\gamma + \\mu} - \\gamma - \\mu - v & -\\frac{S {\\left(\\alpha + \\mu\\right)} {\\left(\\gamma + \\mu + v\\right)} p}{\\gamma + \\mu} - \\gamma \\\\\n",
       "\\frac{I {\\left(\\alpha + \\mu\\right)} {\\left(\\gamma + \\mu + v\\right)} p}{\\gamma + \\mu} & \\frac{S {\\left(\\alpha + \\mu\\right)} {\\left(\\gamma + \\mu + v\\right)} p}{\\gamma + \\mu} - \\alpha - \\mu\n",
       "\\end{array}\\right)</script></html>"
      ],
      "text/plain": [
       "[-I*(alpha + mu)*(gamma + mu + v)*p/(gamma + mu) - gamma - mu - v          -S*(alpha + mu)*(gamma + mu + v)*p/(gamma + mu) - gamma]\n",
       "[                  I*(alpha + mu)*(gamma + mu + v)*p/(gamma + mu)      S*(alpha + mu)*(gamma + mu + v)*p/(gamma + mu) - alpha - mu]"
      ]
     },
     "metadata": {},
     "output_type": "display_data"
    }
   ],
   "source": [
    "pretty_print(J)"
   ]
  },
  {
   "cell_type": "code",
   "execution_count": 36,
   "metadata": {},
   "outputs": [
    {
     "data": {
      "text/html": [
       "<html><script type=\"math/tex; mode=display\">\\newcommand{\\Bold}[1]{\\mathbf{#1}}\\frac{{\\left(\\frac{S {\\left(\\alpha + \\mu\\right)} {\\left(\\gamma + \\mu + v\\right)} p}{\\gamma + \\mu} + \\gamma\\right)} I {\\left(\\alpha + \\mu\\right)} {\\left(\\gamma + \\mu + v\\right)} p}{\\gamma + \\mu} - {\\left(\\frac{I {\\left(\\alpha + \\mu\\right)} {\\left(\\gamma + \\mu + v\\right)} p}{\\gamma + \\mu} + \\gamma + \\mu + v\\right)} {\\left(\\frac{S {\\left(\\alpha + \\mu\\right)} {\\left(\\gamma + \\mu + v\\right)} p}{\\gamma + \\mu} - \\alpha - \\mu\\right)}</script></html>"
      ],
      "text/plain": [
       "(S*(alpha + mu)*(gamma + mu + v)*p/(gamma + mu) + gamma)*I*(alpha + mu)*(gamma + mu + v)*p/(gamma + mu) - (I*(alpha + mu)*(gamma + mu + v)*p/(gamma + mu) + gamma + mu + v)*(S*(alpha + mu)*(gamma + mu + v)*p/(gamma + mu) - alpha - mu)"
      ]
     },
     "metadata": {},
     "output_type": "display_data"
    }
   ],
   "source": [
    "pretty_print(detJ.simplify())"
   ]
  },
  {
   "cell_type": "code",
   "execution_count": 32,
   "metadata": {},
   "outputs": [
    {
     "data": {
      "text/html": [
       "<html><script type=\"math/tex; mode=display\">\\newcommand{\\Bold}[1]{\\mathbf{#1}}-\\frac{I {\\left(\\alpha + \\mu\\right)} {\\left(\\gamma + \\mu + v\\right)} p}{\\gamma + \\mu} + \\frac{S {\\left(\\alpha + \\mu\\right)} {\\left(\\gamma + \\mu + v\\right)} p}{\\gamma + \\mu} - \\alpha - \\gamma - 2 \\, \\mu - v</script></html>"
      ],
      "text/plain": [
       "-I*(alpha + mu)*(gamma + mu + v)*p/(gamma + mu) + S*(alpha + mu)*(gamma + mu + v)*p/(gamma + mu) - alpha - gamma - 2*mu - v"
      ]
     },
     "metadata": {},
     "output_type": "display_data"
    }
   ],
   "source": [
    "pretty_print(trJ.simplify())"
   ]
  },
  {
   "cell_type": "code",
   "execution_count": 46,
   "metadata": {},
   "outputs": [
    {
     "data": {
      "text/html": [
       "<html><script type=\"math/tex; mode=display\">\\newcommand{\\Bold}[1]{\\mathbf{#1}}\\left[-\\gamma - \\mu - v, {\\left(\\alpha + \\mu\\right)} p - \\alpha - \\mu\\right]</script></html>"
      ],
      "text/plain": [
       "[-gamma - mu - v, (alpha + mu)*p - alpha - mu]"
      ]
     },
     "metadata": {},
     "output_type": "display_data"
    }
   ],
   "source": [
    "eig0 = J.substitute(fixed_points[0]).eigenvalues()\n",
    "pretty_print(eig0)"
   ]
  },
  {
   "cell_type": "code",
   "execution_count": 9,
   "metadata": {
    "scrolled": true
   },
   "outputs": [
    {
     "data": {
      "text/html": [
       "<html><script type=\"math/tex; mode=display\">\\newcommand{\\Bold}[1]{\\mathbf{#1}}\\left[-\\frac{\\gamma^{2} + \\gamma \\mu + {\\left(\\alpha \\gamma + {\\left(\\alpha + \\gamma\\right)} \\mu + \\mu^{2}\\right)} p + {\\left({\\left(\\alpha + \\mu\\right)} p + \\gamma\\right)} v + \\sqrt{4 \\, \\alpha^{3} \\gamma + 8 \\, \\alpha^{2} \\gamma^{2} + 4 \\, \\alpha \\gamma^{3} + \\gamma^{4} + 12 \\, {\\left(\\alpha + \\gamma\\right)} \\mu^{3} + 4 \\, \\mu^{4} + {\\left(12 \\, \\alpha^{2} + 28 \\, \\alpha \\gamma + 13 \\, \\gamma^{2}\\right)} \\mu^{2} + {\\left(\\alpha^{2} \\gamma^{2} + 2 \\, {\\left(\\alpha + \\gamma\\right)} \\mu^{3} + \\mu^{4} + {\\left(\\alpha^{2} + 4 \\, \\alpha \\gamma + \\gamma^{2}\\right)} \\mu^{2} + 2 \\, {\\left(\\alpha^{2} \\gamma + \\alpha \\gamma^{2}\\right)} \\mu\\right)} p^{2} + {\\left({\\left(\\alpha^{2} + 2 \\, \\alpha \\mu + \\mu^{2}\\right)} p^{2} + \\gamma^{2} + 2 \\, {\\left(\\alpha \\gamma + \\gamma \\mu\\right)} p\\right)} v^{2} + 2 \\, {\\left(2 \\, \\alpha^{3} + 10 \\, \\alpha^{2} \\gamma + 10 \\, \\alpha \\gamma^{2} + 3 \\, \\gamma^{3}\\right)} \\mu - 2 \\, {\\left(2 \\, \\alpha^{3} \\gamma + 4 \\, \\alpha^{2} \\gamma^{2} + \\alpha \\gamma^{3} + {\\left(6 \\, \\alpha + 5 \\, \\gamma\\right)} \\mu^{3} + 2 \\, \\mu^{4} + {\\left(6 \\, \\alpha^{2} + 13 \\, \\alpha \\gamma + 4 \\, \\gamma^{2}\\right)} \\mu^{2} + {\\left(2 \\, \\alpha^{3} + 10 \\, \\alpha^{2} \\gamma + 8 \\, \\alpha \\gamma^{2} + \\gamma^{3}\\right)} \\mu\\right)} p + 2 \\, {\\left(2 \\, \\alpha^{3} + 4 \\, \\alpha^{2} \\gamma + 2 \\, \\alpha \\gamma^{2} + \\gamma^{3} + 2 \\, {\\left(3 \\, \\alpha + 2 \\, \\gamma\\right)} \\mu^{2} + 2 \\, \\mu^{3} + {\\left(\\alpha^{2} \\gamma + {\\left(2 \\, \\alpha + \\gamma\\right)} \\mu^{2} + \\mu^{3} + {\\left(\\alpha^{2} + 2 \\, \\alpha \\gamma\\right)} \\mu\\right)} p^{2} + {\\left(6 \\, \\alpha^{2} + 8 \\, \\alpha \\gamma + 3 \\, \\gamma^{2}\\right)} \\mu - 2 \\, {\\left(\\alpha^{3} + 2 \\, \\alpha^{2} \\gamma + {\\left(3 \\, \\alpha + \\gamma\\right)} \\mu^{2} + \\mu^{3} + 3 \\, {\\left(\\alpha^{2} + \\alpha \\gamma\\right)} \\mu\\right)} p\\right)} v}}{2 \\, {\\left(\\alpha + \\gamma + \\mu\\right)}}, -\\frac{\\gamma^{2} + \\gamma \\mu + {\\left(\\alpha \\gamma + {\\left(\\alpha + \\gamma\\right)} \\mu + \\mu^{2}\\right)} p + {\\left({\\left(\\alpha + \\mu\\right)} p + \\gamma\\right)} v - \\sqrt{4 \\, \\alpha^{3} \\gamma + 8 \\, \\alpha^{2} \\gamma^{2} + 4 \\, \\alpha \\gamma^{3} + \\gamma^{4} + 12 \\, {\\left(\\alpha + \\gamma\\right)} \\mu^{3} + 4 \\, \\mu^{4} + {\\left(12 \\, \\alpha^{2} + 28 \\, \\alpha \\gamma + 13 \\, \\gamma^{2}\\right)} \\mu^{2} + {\\left(\\alpha^{2} \\gamma^{2} + 2 \\, {\\left(\\alpha + \\gamma\\right)} \\mu^{3} + \\mu^{4} + {\\left(\\alpha^{2} + 4 \\, \\alpha \\gamma + \\gamma^{2}\\right)} \\mu^{2} + 2 \\, {\\left(\\alpha^{2} \\gamma + \\alpha \\gamma^{2}\\right)} \\mu\\right)} p^{2} + {\\left({\\left(\\alpha^{2} + 2 \\, \\alpha \\mu + \\mu^{2}\\right)} p^{2} + \\gamma^{2} + 2 \\, {\\left(\\alpha \\gamma + \\gamma \\mu\\right)} p\\right)} v^{2} + 2 \\, {\\left(2 \\, \\alpha^{3} + 10 \\, \\alpha^{2} \\gamma + 10 \\, \\alpha \\gamma^{2} + 3 \\, \\gamma^{3}\\right)} \\mu - 2 \\, {\\left(2 \\, \\alpha^{3} \\gamma + 4 \\, \\alpha^{2} \\gamma^{2} + \\alpha \\gamma^{3} + {\\left(6 \\, \\alpha + 5 \\, \\gamma\\right)} \\mu^{3} + 2 \\, \\mu^{4} + {\\left(6 \\, \\alpha^{2} + 13 \\, \\alpha \\gamma + 4 \\, \\gamma^{2}\\right)} \\mu^{2} + {\\left(2 \\, \\alpha^{3} + 10 \\, \\alpha^{2} \\gamma + 8 \\, \\alpha \\gamma^{2} + \\gamma^{3}\\right)} \\mu\\right)} p + 2 \\, {\\left(2 \\, \\alpha^{3} + 4 \\, \\alpha^{2} \\gamma + 2 \\, \\alpha \\gamma^{2} + \\gamma^{3} + 2 \\, {\\left(3 \\, \\alpha + 2 \\, \\gamma\\right)} \\mu^{2} + 2 \\, \\mu^{3} + {\\left(\\alpha^{2} \\gamma + {\\left(2 \\, \\alpha + \\gamma\\right)} \\mu^{2} + \\mu^{3} + {\\left(\\alpha^{2} + 2 \\, \\alpha \\gamma\\right)} \\mu\\right)} p^{2} + {\\left(6 \\, \\alpha^{2} + 8 \\, \\alpha \\gamma + 3 \\, \\gamma^{2}\\right)} \\mu - 2 \\, {\\left(\\alpha^{3} + 2 \\, \\alpha^{2} \\gamma + {\\left(3 \\, \\alpha + \\gamma\\right)} \\mu^{2} + \\mu^{3} + 3 \\, {\\left(\\alpha^{2} + \\alpha \\gamma\\right)} \\mu\\right)} p\\right)} v}}{2 \\, {\\left(\\alpha + \\gamma + \\mu\\right)}}\\right]</script></html>"
      ],
      "text/plain": [
       "[-1/2*(gamma^2 + gamma*mu + (alpha*gamma + (alpha + gamma)*mu + mu^2)*p + ((alpha + mu)*p + gamma)*v + sqrt(4*alpha^3*gamma + 8*alpha^2*gamma^2 + 4*alpha*gamma^3 + gamma^4 + 12*(alpha + gamma)*mu^3 + 4*mu^4 + (12*alpha^2 + 28*alpha*gamma + 13*gamma^2)*mu^2 + (alpha^2*gamma^2 + 2*(alpha + gamma)*mu^3 + mu^4 + (alpha^2 + 4*alpha*gamma + gamma^2)*mu^2 + 2*(alpha^2*gamma + alpha*gamma^2)*mu)*p^2 + ((alpha^2 + 2*alpha*mu + mu^2)*p^2 + gamma^2 + 2*(alpha*gamma + gamma*mu)*p)*v^2 + 2*(2*alpha^3 + 10*alpha^2*gamma + 10*alpha*gamma^2 + 3*gamma^3)*mu - 2*(2*alpha^3*gamma + 4*alpha^2*gamma^2 + alpha*gamma^3 + (6*alpha + 5*gamma)*mu^3 + 2*mu^4 + (6*alpha^2 + 13*alpha*gamma + 4*gamma^2)*mu^2 + (2*alpha^3 + 10*alpha^2*gamma + 8*alpha*gamma^2 + gamma^3)*mu)*p + 2*(2*alpha^3 + 4*alpha^2*gamma + 2*alpha*gamma^2 + gamma^3 + 2*(3*alpha + 2*gamma)*mu^2 + 2*mu^3 + (alpha^2*gamma + (2*alpha + gamma)*mu^2 + mu^3 + (alpha^2 + 2*alpha*gamma)*mu)*p^2 + (6*alpha^2 + 8*alpha*gamma + 3*gamma^2)*mu - 2*(alpha^3 + 2*alpha^2*gamma + (3*alpha + gamma)*mu^2 + mu^3 + 3*(alpha^2 + alpha*gamma)*mu)*p)*v))/(alpha + gamma + mu),\n",
       " -1/2*(gamma^2 + gamma*mu + (alpha*gamma + (alpha + gamma)*mu + mu^2)*p + ((alpha + mu)*p + gamma)*v - sqrt(4*alpha^3*gamma + 8*alpha^2*gamma^2 + 4*alpha*gamma^3 + gamma^4 + 12*(alpha + gamma)*mu^3 + 4*mu^4 + (12*alpha^2 + 28*alpha*gamma + 13*gamma^2)*mu^2 + (alpha^2*gamma^2 + 2*(alpha + gamma)*mu^3 + mu^4 + (alpha^2 + 4*alpha*gamma + gamma^2)*mu^2 + 2*(alpha^2*gamma + alpha*gamma^2)*mu)*p^2 + ((alpha^2 + 2*alpha*mu + mu^2)*p^2 + gamma^2 + 2*(alpha*gamma + gamma*mu)*p)*v^2 + 2*(2*alpha^3 + 10*alpha^2*gamma + 10*alpha*gamma^2 + 3*gamma^3)*mu - 2*(2*alpha^3*gamma + 4*alpha^2*gamma^2 + alpha*gamma^3 + (6*alpha + 5*gamma)*mu^3 + 2*mu^4 + (6*alpha^2 + 13*alpha*gamma + 4*gamma^2)*mu^2 + (2*alpha^3 + 10*alpha^2*gamma + 8*alpha*gamma^2 + gamma^3)*mu)*p + 2*(2*alpha^3 + 4*alpha^2*gamma + 2*alpha*gamma^2 + gamma^3 + 2*(3*alpha + 2*gamma)*mu^2 + 2*mu^3 + (alpha^2*gamma + (2*alpha + gamma)*mu^2 + mu^3 + (alpha^2 + 2*alpha*gamma)*mu)*p^2 + (6*alpha^2 + 8*alpha*gamma + 3*gamma^2)*mu - 2*(alpha^3 + 2*alpha^2*gamma + (3*alpha + gamma)*mu^2 + mu^3 + 3*(alpha^2 + alpha*gamma)*mu)*p)*v))/(alpha + gamma + mu)]"
      ]
     },
     "metadata": {},
     "output_type": "display_data"
    }
   ],
   "source": [
    "eig1 = J.substitute(fixed_points[1]).eigenvalues()\n",
    "pretty_print(eig1)"
   ]
  },
  {
   "cell_type": "code",
   "execution_count": 10,
   "metadata": {},
   "outputs": [
    {
     "data": {
      "text/plain": [
       "[[alpha < -mu, 1 < p], [-mu < alpha, p < 1]]"
      ]
     },
     "execution_count": 10,
     "metadata": {},
     "output_type": "execute_result"
    }
   ],
   "source": [
    "psols = solve(eig0[1] < 0, p)\n",
    "psols"
   ]
  },
  {
   "cell_type": "code",
   "execution_count": 11,
   "metadata": {},
   "outputs": [
    {
     "name": "stdout",
     "output_type": "stream",
     "text": [
      "[(False, False), (False, True)]\n",
      "[(True, True), (False, True)]\n"
     ]
    }
   ],
   "source": [
    "for psol in psols:\n",
    "    print([(bool(b), not bool(-b)) for b in psol])"
   ]
  },
  {
   "cell_type": "code",
   "execution_count": 47,
   "metadata": {},
   "outputs": [
    {
     "data": {
      "text/plain": [
       "[-1.26000000000000, 0.156000000000000]"
      ]
     },
     "execution_count": 47,
     "metadata": {},
     "output_type": "execute_result"
    }
   ],
   "source": [
    "lm = [e.substitute([mu==0.02, gm==0.56, p==1.3, al==0.5, v==0.68]) for e in eig0]\n",
    "lm"
   ]
  },
  {
   "cell_type": "code",
   "execution_count": 13,
   "metadata": {},
   "outputs": [
    {
     "data": {
      "text/plain": [
       "[[-gamma - mu < v, -gamma - mu < alpha, alpha*p + mu*p + gamma > 0],\n",
       " [-gamma - mu < v, alpha < -gamma - mu, -alpha*p - mu*p - gamma > 0],\n",
       " [v < -gamma - mu, alpha < -gamma - mu, alpha*p + mu*p + gamma > 0],\n",
       " [v < -gamma - mu, -gamma - mu < alpha, -alpha*p - mu*p - gamma > 0]]"
      ]
     },
     "execution_count": 13,
     "metadata": {},
     "output_type": "execute_result"
    }
   ],
   "source": [
    "# stability conditions\n",
    "psols1 = solve(trJ.substitute(fixed_points[1]) < 0, p)\n",
    "psols1"
   ]
  },
  {
   "cell_type": "code",
   "execution_count": 14,
   "metadata": {},
   "outputs": [
    {
     "data": {
      "text/plain": [
       "[[-gamma - mu < v, -mu < alpha, 1 < p],\n",
       " [-gamma - mu < v, alpha < -mu, p < 1],\n",
       " [v < -gamma - mu, alpha < -mu, 1 < p],\n",
       " [v < -gamma - mu, -mu < alpha, p < 1]]"
      ]
     },
     "execution_count": 14,
     "metadata": {},
     "output_type": "execute_result"
    }
   ],
   "source": [
    "psols1b = solve(detJ.substitute(fixed_points[1]) > 0, p)\n",
    "psols1b"
   ]
  },
  {
   "cell_type": "code",
   "execution_count": 15,
   "metadata": {},
   "outputs": [
    {
     "name": "stdout",
     "output_type": "stream",
     "text": [
      "[(True, True), (True, True), (True, True)]\n",
      "[(True, True), (False, False), (False, False)]\n",
      "[(False, False), (False, False), (True, True)]\n",
      "[(False, False), (True, True), (False, False)]\n"
     ]
    }
   ],
   "source": [
    "for psol in psols1:\n",
    "    print([(bool(b), not bool(-b)) for b in psol])"
   ]
  },
  {
   "cell_type": "code",
   "execution_count": 57,
   "metadata": {},
   "outputs": [
    {
     "name": "stdout",
     "output_type": "stream",
     "text": [
      "[(True, True), (True, True), (False, True)]\n",
      "[(True, True), (False, False), (False, True)]\n",
      "[(False, False), (False, False), (False, True)]\n",
      "[(False, False), (True, True), (False, True)]\n"
     ]
    }
   ],
   "source": [
    "for psol in psols1b:\n",
    "    print([(bool(b), not bool(-b)) for b in psol])"
   ]
  },
  {
   "cell_type": "code",
   "execution_count": 37,
   "metadata": {},
   "outputs": [
    {
     "name": "stdout",
     "output_type": "stream",
     "text": [
      "-alpha^2*gamma*p^2 - alpha^2*mu*p^2 - 2*alpha*gamma*mu*p^2 - 2*alpha*mu^2*p^2 - gamma*mu^2*p^2 - mu^3*p^2 - alpha^2*p^2*v - 2*alpha*mu*p^2*v - mu^2*p^2*v + 4*alpha^3*p + 8*alpha^2*gamma*p + 2*alpha*gamma^2*p + 12*alpha^2*mu*p + 14*alpha*gamma*mu*p + 2*gamma^2*mu*p + 12*alpha*mu^2*p + 6*gamma*mu^2*p + 4*mu^3*p - 2*alpha*gamma*p*v - 2*gamma*mu*p*v - 4*alpha^3 - 8*alpha^2*gamma - 4*alpha*gamma^2 - gamma^3 - 12*alpha^2*mu - 16*alpha*gamma*mu - 5*gamma^2*mu - 12*alpha*mu^2 - 8*gamma*mu^2 - 4*mu^3 - gamma^2*v > 0\n"
     ]
    },
    {
     "data": {
      "text/html": [
       "<html><script type=\"math/tex; mode=display\">\\newcommand{\\Bold}[1]{\\mathbf{#1}}\\left[p = \\frac{2 \\, \\alpha^{2} + 4 \\, \\alpha \\gamma + \\gamma^{2} + {\\left(4 \\, \\alpha + 3 \\, \\gamma\\right)} \\mu + 2 \\, \\mu^{2} - \\gamma v - 2 \\, \\sqrt{\\alpha^{2} + \\alpha \\gamma + \\alpha \\mu - {\\left(\\alpha + \\gamma + \\mu\\right)} v} {\\left(\\alpha + \\gamma + \\mu\\right)}}{\\alpha \\gamma + {\\left(\\alpha + \\gamma\\right)} \\mu + \\mu^{2} + {\\left(\\alpha + \\mu\\right)} v}, p = \\frac{2 \\, \\alpha^{2} + 4 \\, \\alpha \\gamma + \\gamma^{2} + {\\left(4 \\, \\alpha + 3 \\, \\gamma\\right)} \\mu + 2 \\, \\mu^{2} - \\gamma v + 2 \\, \\sqrt{\\alpha^{2} + \\alpha \\gamma + \\alpha \\mu - {\\left(\\alpha + \\gamma + \\mu\\right)} v} {\\left(\\alpha + \\gamma + \\mu\\right)}}{\\alpha \\gamma + {\\left(\\alpha + \\gamma\\right)} \\mu + \\mu^{2} + {\\left(\\alpha + \\mu\\right)} v}\\right]</script></html>"
      ],
      "text/plain": [
       "[p == (2*alpha^2 + 4*alpha*gamma + gamma^2 + (4*alpha + 3*gamma)*mu + 2*mu^2 - gamma*v - 2*sqrt(alpha^2 + alpha*gamma + alpha*mu - (alpha + gamma + mu)*v)*(alpha + gamma + mu))/(alpha*gamma + (alpha + gamma)*mu + mu^2 + (alpha + mu)*v), p == (2*alpha^2 + 4*alpha*gamma + gamma^2 + (4*alpha + 3*gamma)*mu + 2*mu^2 - gamma*v + 2*sqrt(alpha^2 + alpha*gamma + alpha*mu - (alpha + gamma + mu)*v)*(alpha + gamma + mu))/(alpha*gamma + (alpha + gamma)*mu + mu^2 + (alpha + mu)*v)]"
      ]
     },
     "metadata": {},
     "output_type": "display_data"
    }
   ],
   "source": [
    "# spiral condition\n",
    "condition = solve(trJ.substitute(fixed_points[1])**2 - 4*detJ.substitute(fixed_points[1]) < 0, p)[1][1]\n",
    "print(condition)\n",
    "\n",
    "# if >0 then\n",
    "spirals = solve(condition.lhs(), p)\n",
    "cond_sign = condition.lhs().coefficient(p, 2)\n",
    "if bool(cond_sign < 0):\n",
    "    pretty_print(spirals)"
   ]
  },
  {
   "cell_type": "code",
   "execution_count": 48,
   "metadata": {},
   "outputs": [
    {
     "data": {
      "text/plain": [
       "p == (2*alpha^2 + 4*alpha*gamma + gamma^2 + (4*alpha + 3*gamma)*mu + 2*mu^2 - gamma*v - 2*sqrt(alpha^2 + alpha*gamma + alpha*mu - (alpha + gamma + mu)*v)*(alpha + gamma + mu))/(alpha*gamma + (alpha + gamma)*mu + mu^2 + (alpha + mu)*v)"
      ]
     },
     "execution_count": 48,
     "metadata": {},
     "output_type": "execute_result"
    }
   ],
   "source": [
    "spirals[0]"
   ]
  },
  {
   "cell_type": "code",
   "execution_count": 38,
   "metadata": {},
   "outputs": [
    {
     "data": {
      "text/plain": [
       "[St(t) == ilt(-(((alpha + mu)*p*v*laplace(It(t)*St(t), t, g18048) + gamma*p*laplace((gamma + mu + v)*It(t)*St(t), t, g18048) + (alpha*gamma + (alpha + gamma)*mu + mu^2)*p*laplace(It(t)*St(t), t, g18048))*g18048 - gamma^2 - 2*gamma*mu - mu^2)/((gamma^2 + 2*gamma*mu + mu^2 + (gamma + mu)*v)*g18048), g18048, t),\n",
       " It(t) == ilt(p*laplace((gamma + mu + v)*It(t)*St(t), t, g18048)/(gamma + mu), g18048, t)]"
      ]
     },
     "execution_count": 38,
     "metadata": {},
     "output_type": "execute_result"
    }
   ],
   "source": [
    "# this is borked atm\n",
    "var('t')\n",
    "St = function('St')(t)\n",
    "It = function('It')(t)\n",
    "dSt = dS.substitute([S==St, I==It])\n",
    "dIt = dI.substitute([S==St, I==It])\n",
    "desolve_system([dSt, dIt], [St, It], ivar=t)"
   ]
  }
 ],
 "metadata": {
  "kernelspec": {
   "display_name": "SageMath 8.8",
   "language": "sage",
   "name": "sagemath"
  },
  "language_info": {
   "codemirror_mode": {
    "name": "ipython",
    "version": 2
   },
   "file_extension": ".py",
   "mimetype": "text/x-python",
   "name": "python",
   "nbconvert_exporter": "python",
   "pygments_lexer": "ipython2",
   "version": "2.7.15"
  }
 },
 "nbformat": 4,
 "nbformat_minor": 2
}
