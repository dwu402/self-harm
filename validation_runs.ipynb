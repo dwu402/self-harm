{
 "cells": [
  {
   "cell_type": "code",
   "execution_count": 1,
   "metadata": {
    "ExecuteTime": {
     "end_time": "2019-03-24T23:29:55.815740Z",
     "start_time": "2019-03-24T23:29:55.770642Z"
    }
   },
   "outputs": [],
   "source": [
    "import ingestor, modeller, fitter\n",
    "import numpy as np\n",
    "from matplotlib import pyplot as plt"
   ]
  },
  {
   "cell_type": "code",
   "execution_count": 2,
   "metadata": {
    "ExecuteTime": {
     "end_time": "2019-03-24T23:29:55.823452Z",
     "start_time": "2019-03-24T23:29:55.819213Z"
    }
   },
   "outputs": [],
   "source": [
    "plt.rc('text', usetex=True)\n",
    "plt.rc('font', family='serif')"
   ]
  },
  {
   "cell_type": "code",
   "execution_count": 3,
   "metadata": {
    "ExecuteTime": {
     "end_time": "2019-03-24T23:29:55.830497Z",
     "start_time": "2019-03-24T23:29:55.824721Z"
    }
   },
   "outputs": [
    {
     "data": {
      "text/plain": [
       "<module 'fitter' from '/media/dwu402/Data/wrap-mad/fitter.py'>"
      ]
     },
     "execution_count": 3,
     "metadata": {},
     "output_type": "execute_result"
    }
   ],
   "source": [
    "from importlib import reload\n",
    "\n",
    "reload(ingestor)\n",
    "reload(modeller)\n",
    "reload(fitter)"
   ]
  },
  {
   "cell_type": "code",
   "execution_count": 4,
   "metadata": {
    "ExecuteTime": {
     "end_time": "2019-03-24T23:29:55.855272Z",
     "start_time": "2019-03-24T23:29:55.833121Z"
    }
   },
   "outputs": [],
   "source": [
    "context = ingestor.initialise_context()\n",
    "ingestor.read_run_file(context, \"runs/mouse4.3.run\")"
   ]
  },
  {
   "cell_type": "code",
   "execution_count": 5,
   "metadata": {
    "ExecuteTime": {
     "end_time": "2019-03-24T23:29:55.886466Z",
     "start_time": "2019-03-24T23:29:55.857042Z"
    }
   },
   "outputs": [],
   "source": [
    "model = modeller.Model(context)"
   ]
  },
  {
   "cell_type": "code",
   "execution_count": 6,
   "metadata": {
    "ExecuteTime": {
     "end_time": "2019-03-24T23:30:13.815632Z",
     "start_time": "2019-03-24T23:29:55.887505Z"
    }
   },
   "outputs": [],
   "source": [
    "solver = fitter.Fitter()\n",
    "solver.construct_objectives(context, model)"
   ]
  },
  {
   "cell_type": "code",
   "execution_count": 7,
   "metadata": {
    "ExecuteTime": {
     "end_time": "2019-03-24T23:30:13.819319Z",
     "start_time": "2019-03-24T23:30:13.816799Z"
    }
   },
   "outputs": [
    {
     "name": "stdout",
     "output_type": "stream",
     "text": [
      "{}\n"
     ]
    }
   ],
   "source": [
    "solver.construct_problems()\n",
    "print(solver.solutions)"
   ]
  },
  {
   "cell_type": "code",
   "execution_count": 8,
   "metadata": {
    "ExecuteTime": {
     "end_time": "2019-03-25T03:35:13.990344Z",
     "start_time": "2019-03-24T23:30:13.820394Z"
    }
   },
   "outputs": [],
   "source": [
    "for rhoi in np.logspace(1, 5, num=41):\n",
    "    solver.solve(rhoi)"
   ]
  },
  {
   "cell_type": "code",
   "execution_count": 9,
   "metadata": {
    "ExecuteTime": {
     "end_time": "2019-03-25T03:35:14.015946Z",
     "start_time": "2019-03-25T03:35:13.991737Z"
    },
    "scrolled": false
   },
   "outputs": [
    {
     "data": {
      "text/plain": [
       "{'10.0': [      fun: 0.11659342994557494\n",
       "   hess_inv: <9x9 LbfgsInvHessProduct with dtype=float64>\n",
       "        jac: array([ 0.0016526 ,  0.00049605,  0.00521841,  0.00294731, -0.005592  ,\n",
       "         -0.00252685,  0.00212057, -0.00043477,  0.05141717])\n",
       "    message: b'CONVERGENCE: REL_REDUCTION_OF_F_<=_FACTR*EPSMCH'\n",
       "       nfev: 188\n",
       "        nit: 123\n",
       "     status: 0\n",
       "    success: True\n",
       "          x: array([ 0.        ,  0.        ,  0.        , 91.84004789, 48.38994169,\n",
       "         11.39322897, 13.62398031,  2.82618728,  0.        ])],\n",
       " '12.589254117941675': [      fun: 0.12689545937070779\n",
       "   hess_inv: <9x9 LbfgsInvHessProduct with dtype=float64>\n",
       "        jac: array([ 1.62262212e-04,  5.72517405e-04,  9.12655476e-06, -2.70050049e-07,\n",
       "         -4.32936762e-06,  2.03886496e-06, -6.54391719e-06,  1.13277878e-05,\n",
       "          1.24321181e-02])\n",
       "    message: b'CONVERGENCE: REL_REDUCTION_OF_F_<=_FACTR*EPSMCH'\n",
       "       nfev: 107\n",
       "        nit: 78\n",
       "     status: 0\n",
       "    success: True\n",
       "          x: array([0.00000000e+00, 0.00000000e+00, 9.42696516e-04, 1.00000000e+02,\n",
       "         7.63291604e+00, 4.54095841e+01, 1.28293000e+01, 3.12298983e+00,\n",
       "         0.00000000e+00])],\n",
       " '15.848931924611133': [      fun: 0.19477400688114158\n",
       "   hess_inv: <9x9 LbfgsInvHessProduct with dtype=float64>\n",
       "        jac: array([ 0.05675171, -0.09352872, -0.02062169,  0.03072648, -0.15088322,\n",
       "         -0.02125112,  0.01324966, -0.00789147,  0.06299941])\n",
       "    message: b'CONVERGENCE: REL_REDUCTION_OF_F_<=_FACTR*EPSMCH'\n",
       "       nfev: 90\n",
       "        nit: 18\n",
       "     status: 0\n",
       "    success: True\n",
       "          x: array([0.75301797, 0.24566167, 0.34902971, 1.76372751, 0.9960068 ,\n",
       "         1.35863793, 2.52376518, 1.65392309, 0.42539134])],\n",
       " '19.952623149688797': [      fun: 0.20639630737536063\n",
       "   hess_inv: <9x9 LbfgsInvHessProduct with dtype=float64>\n",
       "        jac: array([-0.00542878, -0.00067046,  0.00281855,  0.01028904, -0.00620384,\n",
       "          0.00036287,  0.00750931,  0.00136792, -0.00022133])\n",
       "    message: b'CONVERGENCE: REL_REDUCTION_OF_F_<=_FACTR*EPSMCH'\n",
       "       nfev: 84\n",
       "        nit: 19\n",
       "     status: 0\n",
       "    success: True\n",
       "          x: array([0.84699107, 0.80595483, 2.87032139, 0.        , 0.96351507,\n",
       "         3.20544297, 3.08109443, 1.84083944, 0.59836558])],\n",
       " '25.118864315095795': [      fun: 0.23737376304820434\n",
       "   hess_inv: <9x9 LbfgsInvHessProduct with dtype=float64>\n",
       "        jac: array([ 0.03880436, -0.04491561, -0.06293356, -0.06646954,  0.17452177,\n",
       "         -0.03366186,  0.0386899 ,  0.00112117,  0.02214604])\n",
       "    message: b'CONVERGENCE: REL_REDUCTION_OF_F_<=_FACTR*EPSMCH'\n",
       "       nfev: 75\n",
       "        nit: 10\n",
       "     status: 0\n",
       "    success: True\n",
       "          x: array([0.73491543, 0.4900263 , 1.42053168, 0.8713086 , 1.10262451,\n",
       "         2.34198225, 2.03418136, 1.18656149, 0.48929575])],\n",
       " '31.622776601683793': [      fun: 0.1630913674460301\n",
       "   hess_inv: <9x9 LbfgsInvHessProduct with dtype=float64>\n",
       "        jac: array([ 4.59312845e-04,  2.05266258e-04,  1.37222607e-03, -6.84774049e-10,\n",
       "          2.98024909e-06, -6.11628371e-06,  8.24236216e-06,  6.60723256e-07,\n",
       "          9.23172154e-06])\n",
       "    message: b'CONVERGENCE: NORM_OF_PROJECTED_GRADIENT_<=_PGTOL'\n",
       "       nfev: 52\n",
       "        nit: 47\n",
       "     status: 0\n",
       "    success: True\n",
       "          x: array([  0.        ,   0.        ,   0.        ,  30.54075164,\n",
       "          25.21064604, 100.        ,   0.22057362,   4.22025543,\n",
       "          52.83803409])],\n",
       " '39.810717055349734': [      fun: 0.2463391632695019\n",
       "   hess_inv: <9x9 LbfgsInvHessProduct with dtype=float64>\n",
       "        jac: array([-0.00549282,  0.01270791, -0.00714957,  0.00842344,  0.02267731,\n",
       "         -0.04003929,  0.0355226 ,  0.00236757,  0.05134891])\n",
       "    message: b'CONVERGENCE: REL_REDUCTION_OF_F_<=_FACTR*EPSMCH'\n",
       "       nfev: 27\n",
       "        nit: 10\n",
       "     status: 0\n",
       "    success: True\n",
       "          x: array([0.73996834, 0.69792425, 1.55541149, 1.15550605, 1.09082566,\n",
       "         2.29960709, 1.79615439, 1.07109252, 0.80066941])],\n",
       " '50.11872336272725': [      fun: 0.20289897751087396\n",
       "   hess_inv: <9x9 LbfgsInvHessProduct with dtype=float64>\n",
       "        jac: array([ 0.02167905, -0.00390307,  0.00081937,  0.00093899,  0.00443873,\n",
       "         -0.00273187, -0.00498159, -0.00042141,  0.0016666 ])\n",
       "    message: b'CONVERGENCE: REL_REDUCTION_OF_F_<=_FACTR*EPSMCH'\n",
       "       nfev: 84\n",
       "        nit: 29\n",
       "     status: 0\n",
       "    success: True\n",
       "          x: array([0.51258032, 1.94613531, 0.86480045, 4.56954646, 2.48026494,\n",
       "         8.61181544, 0.55771493, 2.11786761, 0.        ])],\n",
       " '63.09573444801933': [      fun: 0.5419234560749957\n",
       "   hess_inv: <9x9 LbfgsInvHessProduct with dtype=float64>\n",
       "        jac: array([-0.01428739,  0.00824968, -0.06290991,  0.34377816, -0.67534343,\n",
       "          0.15808217, -0.35180032, -0.00957227, -0.35570499])\n",
       "    message: b'CONVERGENCE: REL_REDUCTION_OF_F_<=_FACTR*EPSMCH'\n",
       "       nfev: 13\n",
       "        nit: 1\n",
       "     status: 0\n",
       "    success: True\n",
       "          x: array([3.e-01, 1.e+00, 7.e-01, 2.e+00, 1.e+00, 1.e+00, 1.e+00, 1.e+00,\n",
       "         1.e-03])],\n",
       " '79.43282347242814': [      fun: 0.12598178945124935\n",
       "   hess_inv: <9x9 LbfgsInvHessProduct with dtype=float64>\n",
       "        jac: array([ 0.00103219,  0.06819242,  0.02897217,  0.05903362, -0.15308502,\n",
       "          0.13131372, -0.07265371,  0.00718017,  0.04405511])\n",
       "    message: b'CONVERGENCE: REL_REDUCTION_OF_F_<=_FACTR*EPSMCH'\n",
       "       nfev: 109\n",
       "        nit: 38\n",
       "     status: 0\n",
       "    success: True\n",
       "          x: array([1.62719304, 0.91534716, 3.1416983 , 1.4411207 , 1.03449222,\n",
       "         0.2759238 , 1.31930648, 0.77852809, 1.82344925])],\n",
       " '100.0': [      fun: 0.6479341257361756\n",
       "   hess_inv: <9x9 LbfgsInvHessProduct with dtype=float64>\n",
       "        jac: array([-0.04850016,  0.05377976, -0.15167413,  0.68458465, -1.32184264,\n",
       "          0.66627862, -0.93547964, -0.00706081, -0.24710592])\n",
       "    message: b'CONVERGENCE: REL_REDUCTION_OF_F_<=_FACTR*EPSMCH'\n",
       "       nfev: 66\n",
       "        nit: 1\n",
       "     status: 0\n",
       "    success: True\n",
       "          x: array([3.e-01, 1.e+00, 7.e-01, 2.e+00, 1.e+00, 1.e+00, 1.e+00, 1.e+00,\n",
       "         1.e-03])],\n",
       " '125.89254117941675': [      fun: 0.3827709192903993\n",
       "   hess_inv: <9x9 LbfgsInvHessProduct with dtype=float64>\n",
       "        jac: array([-0.05665304, -0.08264215, -0.01587849,  0.01706979, -0.10471139,\n",
       "         -0.0440889 , -0.12652397, -0.03870491, -0.16210815])\n",
       "    message: b'CONVERGENCE: REL_REDUCTION_OF_F_<=_FACTR*EPSMCH'\n",
       "       nfev: 11\n",
       "        nit: 3\n",
       "     status: 0\n",
       "    success: True\n",
       "          x: array([0.01138727, 1.07772742, 1.08243327, 2.01651479, 0.75431349,\n",
       "         1.15699975, 0.03198216, 2.67032713, 0.07190011])],\n",
       " '158.48931924611142': [      fun: 0.817266704839094\n",
       "   hess_inv: <9x9 LbfgsInvHessProduct with dtype=float64>\n",
       "        jac: array([-0.09001434,  0.11581746, -0.26139384,  1.19016256, -2.29833872,\n",
       "          0.99191573, -1.35285029,  0.00444554, -0.27874477])\n",
       "    message: b'CONVERGENCE: REL_REDUCTION_OF_F_<=_FACTR*EPSMCH'\n",
       "       nfev: 14\n",
       "        nit: 1\n",
       "     status: 0\n",
       "    success: True\n",
       "          x: array([3.e-01, 1.e+00, 7.e-01, 2.e+00, 1.e+00, 1.e+00, 1.e+00, 1.e+00,\n",
       "         1.e-03])],\n",
       " '199.52623149688787': [      fun: 0.2616804977991779\n",
       "   hess_inv: <9x9 LbfgsInvHessProduct with dtype=float64>\n",
       "        jac: array([-0.01930609,  0.03866896,  0.00279795,  0.02247842, -0.04092318,\n",
       "          0.00160024, -0.00457997, -0.00424377, -0.04699521])\n",
       "    message: b'CONVERGENCE: REL_REDUCTION_OF_F_<=_FACTR*EPSMCH'\n",
       "       nfev: 22\n",
       "        nit: 13\n",
       "     status: 0\n",
       "    success: True\n",
       "          x: array([0.        , 0.27240016, 7.90860973, 1.16622908, 1.32693392,\n",
       "         4.56491892, 5.03591439, 4.11573213, 0.07441785])],\n",
       " '251.18864315095823': [      fun: 1.0612410010972242\n",
       "   hess_inv: <9x9 LbfgsInvHessProduct with dtype=float64>\n",
       "        jac: array([-0.18543964,  0.2456274 , -0.43151259,  1.79957683, -3.36889487,\n",
       "          1.52929491, -2.11236963,  0.03404403, -0.29077811])\n",
       "    message: b'CONVERGENCE: REL_REDUCTION_OF_F_<=_FACTR*EPSMCH'\n",
       "       nfev: 74\n",
       "        nit: 1\n",
       "     status: 0\n",
       "    success: True\n",
       "          x: array([3.e-01, 1.e+00, 7.e-01, 2.e+00, 1.e+00, 1.e+00, 1.e+00, 1.e+00,\n",
       "         1.e-03])],\n",
       " '316.22776601683796': [      fun: 0.4994101109968719\n",
       "   hess_inv: <9x9 LbfgsInvHessProduct with dtype=float64>\n",
       "        jac: array([-0.43450731,  0.39503702, -0.32917993, -0.46137724,  1.36344875,\n",
       "         -0.57081673,  0.39337722, -0.01169313, -0.1339704 ])\n",
       "    message: b'CONVERGENCE: REL_REDUCTION_OF_F_<=_FACTR*EPSMCH'\n",
       "       nfev: 38\n",
       "        nit: 7\n",
       "     status: 0\n",
       "    success: True\n",
       "          x: array([0.38249871, 0.83486147, 1.09535759, 1.73489142, 1.13014564,\n",
       "         1.35886416, 1.34495946, 0.91675589, 0.67420274])],\n",
       " '398.1071705534973': [      fun: 1.432831518795043\n",
       "   hess_inv: <9x9 LbfgsInvHessProduct with dtype=float64>\n",
       "        jac: array([-0.30654314,  0.38967655, -0.58653225,  2.41131875, -4.27917557,\n",
       "          2.10629894, -2.84910659,  0.02971691, -0.32387023])\n",
       "    message: b'CONVERGENCE: REL_REDUCTION_OF_F_<=_FACTR*EPSMCH'\n",
       "       nfev: 33\n",
       "        nit: 1\n",
       "     status: 0\n",
       "    success: True\n",
       "          x: array([3.e-01, 1.e+00, 7.e-01, 2.e+00, 1.e+00, 1.e+00, 1.e+00, 1.e+00,\n",
       "         1.e-03])],\n",
       " '501.18723362727246': [      fun: 0.6391416543014414\n",
       "   hess_inv: <9x9 LbfgsInvHessProduct with dtype=float64>\n",
       "        jac: array([ 0.10479282,  0.18512808, -0.33213641, -0.79532685,  1.72778234,\n",
       "         -0.61402372,  0.20663913, -0.02547235, -0.20240736])\n",
       "    message: b'CONVERGENCE: REL_REDUCTION_OF_F_<=_FACTR*EPSMCH'\n",
       "       nfev: 83\n",
       "        nit: 9\n",
       "     status: 0\n",
       "    success: True\n",
       "          x: array([0.62665261, 0.75061607, 1.40470487, 1.69666341, 1.12130413,\n",
       "         1.17732592, 1.3244632 , 0.99528699, 0.54487028])],\n",
       " '630.957344480193': [      fun: 1.8189265019018015\n",
       "   hess_inv: <9x9 LbfgsInvHessProduct with dtype=float64>\n",
       "        jac: array([-0.20537134,  0.27773471, -0.53644538,  4.90788381, -8.80781801,\n",
       "          2.61731892, -3.73406678, -0.2678318 , -0.62426635])\n",
       "    message: b'CONVERGENCE: REL_REDUCTION_OF_F_<=_FACTR*EPSMCH'\n",
       "       nfev: 10\n",
       "        nit: 1\n",
       "     status: 0\n",
       "    success: True\n",
       "          x: array([3.e-01, 1.e+00, 7.e-01, 2.e+00, 1.e+00, 1.e+00, 1.e+00, 1.e+00,\n",
       "         1.e-03])],\n",
       " '794.3282347242822': [      fun: 0.2755963138265205\n",
       "   hess_inv: <9x9 LbfgsInvHessProduct with dtype=float64>\n",
       "        jac: array([ 0.05870534, -0.02236198, -0.00735068,  0.02193022,  0.00532327,\n",
       "          0.01241255, -0.02739   , -0.00154544, -0.00960985])\n",
       "    message: b'CONVERGENCE: REL_REDUCTION_OF_F_<=_FACTR*EPSMCH'\n",
       "       nfev: 51\n",
       "        nit: 13\n",
       "     status: 0\n",
       "    success: True\n",
       "          x: array([0.49859457, 0.38583349, 4.86915203, 1.42160165, 1.06307871,\n",
       "         2.96436757, 0.9244606 , 0.96056498, 0.94681649])],\n",
       " '1000.0': [      fun: 0.23981826600119177\n",
       "   hess_inv: <9x9 LbfgsInvHessProduct with dtype=float64>\n",
       "        jac: array([ 5.15405511e-02, -4.06749435e-02, -8.01130416e-05, -2.60335636e-04,\n",
       "          3.58330561e-04, -1.53280235e-04,  1.07673377e-04,  1.91200916e-03,\n",
       "          7.98767580e-03])\n",
       "    message: b'CONVERGENCE: REL_REDUCTION_OF_F_<=_FACTR*EPSMCH'\n",
       "       nfev: 99\n",
       "        nit: 47\n",
       "     status: 0\n",
       "    success: True\n",
       "          x: array([0.00000000e+00, 3.04819818e-02, 7.52025038e+01, 3.85900057e-02,\n",
       "         1.73261135e+01, 7.56482077e+01, 6.70781373e+01, 3.23924793e-01,\n",
       "         8.38832047e-01])],\n",
       " '1258.9254117941675': [      fun: 0.2897049351009588\n",
       "   hess_inv: <9x9 LbfgsInvHessProduct with dtype=float64>\n",
       "        jac: array([ 0.04763707, -0.01033337,  0.00052549, -0.00651193, -0.0060979 ,\n",
       "          0.00297254, -0.00921433,  0.00191381, -0.01056027])\n",
       "    message: b'CONVERGENCE: REL_REDUCTION_OF_F_<=_FACTR*EPSMCH'\n",
       "       nfev: 41\n",
       "        nit: 21\n",
       "     status: 0\n",
       "    success: True\n",
       "          x: array([0.21979035, 0.42486619, 2.28590389, 0.76955451, 0.65880575,\n",
       "         3.08527118, 2.85095604, 0.90146894, 0.77070531])],\n",
       " '1584.893192461114': [      fun: 0.9461414274572907\n",
       "   hess_inv: <9x9 LbfgsInvHessProduct with dtype=float64>\n",
       "        jac: array([-0.04199981,  0.05929582, -0.06968102, -0.75312014,  2.16178828,\n",
       "         -1.08061848,  0.27109703, -0.00884198, -0.41823523])\n",
       "    message: b'CONVERGENCE: REL_REDUCTION_OF_F_<=_FACTR*EPSMCH'\n",
       "       nfev: 33\n",
       "        nit: 11\n",
       "     status: 0\n",
       "    success: True\n",
       "          x: array([0.31170931, 0.95741517, 0.77139118, 1.70756672, 0.92246131,\n",
       "         0.75303595, 1.08758093, 1.01294321, 0.51097878])],\n",
       " '1995.262314968881': [      fun: 0.9768351096886936\n",
       "   hess_inv: <9x9 LbfgsInvHessProduct with dtype=float64>\n",
       "        jac: array([-0.05857852,  0.08655782, -0.09136404, -0.63239793,  1.87382128,\n",
       "         -1.26102655,  0.46400122, -0.01069632, -0.70464865])\n",
       "    message: b'CONVERGENCE: REL_REDUCTION_OF_F_<=_FACTR*EPSMCH'\n",
       "       nfev: 104\n",
       "        nit: 12\n",
       "     status: 0\n",
       "    success: True\n",
       "          x: array([0.34179629, 0.94909154, 0.77097536, 1.7774106 , 0.93852622,\n",
       "         0.86730741, 1.26297248, 0.99681402, 0.41619756])],\n",
       " '2511.886431509582': [      fun: 0.32064786907125614\n",
       "   hess_inv: <9x9 LbfgsInvHessProduct with dtype=float64>\n",
       "        jac: array([ 7.72046843e-02, -1.09267041e-01, -1.31779149e-02, -1.57427901e-01,\n",
       "          2.98936112e-01,  4.93257611e-03, -2.80498028e-03, -1.99418653e-04,\n",
       "         -1.62456043e-02])\n",
       "    message: b'CONVERGENCE: REL_REDUCTION_OF_F_<=_FACTR*EPSMCH'\n",
       "       nfev: 123\n",
       "        nit: 37\n",
       "     status: 0\n",
       "    success: True\n",
       "          x: array([0.99437932, 0.50004673, 3.12985663, 0.43298667, 0.38081053,\n",
       "         4.55725022, 5.73178498, 1.14314177, 0.62450296])],\n",
       " '3162.2776601683795': [      fun: 3.944989752122985\n",
       "   hess_inv: <9x9 LbfgsInvHessProduct with dtype=float64>\n",
       "        jac: array([ -0.8027215 ,   0.87737127,  -1.22008855,  14.41677643,\n",
       "         -26.82816281,  -7.38079209,   5.18666703,   0.2150572 ,\n",
       "          -3.38207205])\n",
       "    message: b'CONVERGENCE: REL_REDUCTION_OF_F_<=_FACTR*EPSMCH'\n",
       "       nfev: 21\n",
       "        nit: 1\n",
       "     status: 0\n",
       "    success: True\n",
       "          x: array([3.e-01, 1.e+00, 7.e-01, 2.e+00, 1.e+00, 1.e+00, 1.e+00, 1.e+00,\n",
       "         1.e-03])],\n",
       " '3981.0717055349733': [      fun: 0.2784001097419291\n",
       "   hess_inv: <9x9 LbfgsInvHessProduct with dtype=float64>\n",
       "        jac: array([-1.69091340e-03, -1.42178621e-04,  5.27232358e-05, -1.84827485e-05,\n",
       "         -4.46309653e-05,  1.23039644e-04, -3.64949179e-05, -3.04526413e-04,\n",
       "         -3.90352599e-04])\n",
       "    message: b'CONVERGENCE: REL_REDUCTION_OF_F_<=_FACTR*EPSMCH'\n",
       "       nfev: 71\n",
       "        nit: 47\n",
       "     status: 0\n",
       "    success: True\n",
       "          x: array([ 0.80299449,  9.33296634, 24.17669207,  5.31403233, 16.98522118,\n",
       "         30.31623275,  1.10137553, 10.77297129,  2.05500571])],\n",
       " '5011.872336272725': [      fun: 4.351879145114877\n",
       "   hess_inv: <9x9 LbfgsInvHessProduct with dtype=float64>\n",
       "        jac: array([ -0.87230637,   0.94613379,  -1.15112769,  18.24990593,\n",
       "         -34.77809417, -12.75341388,  10.77408397,   0.26239803,\n",
       "          -4.73704303])\n",
       "    message: b'CONVERGENCE: REL_REDUCTION_OF_F_<=_FACTR*EPSMCH'\n",
       "       nfev: 72\n",
       "        nit: 1\n",
       "     status: 0\n",
       "    success: True\n",
       "          x: array([3.e-01, 1.e+00, 7.e-01, 2.e+00, 1.e+00, 1.e+00, 1.e+00, 1.e+00,\n",
       "         1.e-03])],\n",
       " '6309.573444801937': [      fun: 0.4212338374835501\n",
       "   hess_inv: <9x9 LbfgsInvHessProduct with dtype=float64>\n",
       "        jac: array([ 0.14700358, -0.06610512, -0.00191661,  0.14965867, -0.26382057,\n",
       "         -0.13747897, -0.17945971, -0.03066943, -0.1121963 ])\n",
       "    message: b'CONVERGENCE: REL_REDUCTION_OF_F_<=_FACTR*EPSMCH'\n",
       "       nfev: 62\n",
       "        nit: 21\n",
       "     status: 0\n",
       "    success: True\n",
       "          x: array([0.44581633, 1.08202368, 0.71299215, 1.89090932, 1.07343763,\n",
       "         1.45149934, 0.11865993, 1.4586375 , 0.36982774])],\n",
       " '7943.282347242822': [      fun: 4.669747672319788\n",
       "   hess_inv: <9x9 LbfgsInvHessProduct with dtype=float64>\n",
       "        jac: array([ -0.90573058,   0.98266857,  -1.04147315,  22.0445503 ,\n",
       "         -42.6942009 , -18.03786691,  16.32987646,   0.28441909,\n",
       "          -6.12656177])\n",
       "    message: b'CONVERGENCE: REL_REDUCTION_OF_F_<=_FACTR*EPSMCH'\n",
       "       nfev: 49\n",
       "        nit: 1\n",
       "     status: 0\n",
       "    success: True\n",
       "          x: array([3.e-01, 1.e+00, 7.e-01, 2.e+00, 1.e+00, 1.e+00, 1.e+00, 1.e+00,\n",
       "         1.e-03])],\n",
       " '10000.0': [      fun: 3.622641106985052\n",
       "   hess_inv: <9x9 LbfgsInvHessProduct with dtype=float64>\n",
       "        jac: array([-0.21624069,  0.21070497, -0.31711513, -1.43965658,  4.37290847,\n",
       "          5.90670681, -6.68048526,  0.02314986, -0.57371147])\n",
       "    message: b'CONVERGENCE: REL_REDUCTION_OF_F_<=_FACTR*EPSMCH'\n",
       "       nfev: 30\n",
       "        nit: 9\n",
       "     status: 0\n",
       "    success: True\n",
       "          x: array([0.30975999, 1.01781847, 0.73607879, 1.97560291, 1.01204801,\n",
       "         1.00260385, 0.97117747, 1.05128972, 0.05881722])],\n",
       " '12589.254117941662': [      fun: 0.5811093554873149\n",
       "   hess_inv: <9x9 LbfgsInvHessProduct with dtype=float64>\n",
       "        jac: array([-0.03191147,  0.1040433 , -0.03655685, -7.69608823, 18.3032574 ,\n",
       "         -5.94248578,  4.23649143, -0.04751259, -2.12870575])\n",
       "    message: b'CONVERGENCE: REL_REDUCTION_OF_F_<=_FACTR*EPSMCH'\n",
       "       nfev: 125\n",
       "        nit: 41\n",
       "     status: 0\n",
       "    success: True\n",
       "          x: array([0.90764324, 0.40760222, 1.13927688, 0.69816866, 0.40167333,\n",
       "         0.54539913, 1.09033523, 1.19135967, 0.29569899])],\n",
       " '15848.93192461114': [      fun: 5.164061008479435\n",
       "   hess_inv: <9x9 LbfgsInvHessProduct with dtype=float64>\n",
       "        jac: array([ -1.16500098,   1.27037642,  -1.08280961,  34.49111123,\n",
       "         -68.5995727 , -34.66415615,  33.55486117,   0.32400172,\n",
       "         -10.35611186])\n",
       "    message: b'CONVERGENCE: REL_REDUCTION_OF_F_<=_FACTR*EPSMCH'\n",
       "       nfev: 68\n",
       "        nit: 1\n",
       "     status: 0\n",
       "    success: True\n",
       "          x: array([3.e-01, 1.e+00, 7.e-01, 2.e+00, 1.e+00, 1.e+00, 1.e+00, 1.e+00,\n",
       "         1.e-03])],\n",
       " '19952.62314968883': [      fun: 0.3569973459915211\n",
       "   hess_inv: <9x9 LbfgsInvHessProduct with dtype=float64>\n",
       "        jac: array([ 1.41556579e-02,  1.01006973e-05,  3.96526391e-04, -5.23345286e-07,\n",
       "         -7.41755660e-04,  1.32452371e-03,  1.53183768e-03, -4.59079856e-04,\n",
       "         -8.60447487e-04])\n",
       "    message: b'CONVERGENCE: REL_REDUCTION_OF_F_<=_FACTR*EPSMCH'\n",
       "       nfev: 112\n",
       "        nit: 20\n",
       "     status: 0\n",
       "    success: True\n",
       "          x: array([  1.12052173,  38.40697189,  62.416123  ,   0.18890671,\n",
       "          33.03337692,  67.43839127,   1.02795281, 100.        ,\n",
       "          75.75180978])],\n",
       " '25118.864315095823': [      fun: 5.149578752631611\n",
       "   hess_inv: <9x9 LbfgsInvHessProduct with dtype=float64>\n",
       "        jac: array([ -0.84160183,   0.92470401,  -0.71248669,  28.38305979,\n",
       "         -56.07942491, -27.08765775,  26.04013081,   0.26712708,\n",
       "          -8.72603034])\n",
       "    message: b'CONVERGENCE: REL_REDUCTION_OF_F_<=_FACTR*EPSMCH'\n",
       "       nfev: 23\n",
       "        nit: 1\n",
       "     status: 0\n",
       "    success: True\n",
       "          x: array([3.e-01, 1.e+00, 7.e-01, 2.e+00, 1.e+00, 1.e+00, 1.e+00, 1.e+00,\n",
       "         1.e-03])],\n",
       " '31622.776601683792': [      fun: 0.4190132412495196\n",
       "   hess_inv: <9x9 LbfgsInvHessProduct with dtype=float64>\n",
       "        jac: array([-3.96162175e-06, -1.14625089e-05,  1.23532724e-05,  8.94347252e-07,\n",
       "          1.45443805e-06,  1.13946245e-07, -2.11373636e-05, -1.09831757e-05,\n",
       "         -3.46582598e-06])\n",
       "    message: b'CONVERGENCE: REL_REDUCTION_OF_F_<=_FACTR*EPSMCH'\n",
       "       nfev: 115\n",
       "        nit: 38\n",
       "     status: 0\n",
       "    success: True\n",
       "          x: array([  1.26008098,  75.63134358,  54.1055075 ,   0.        ,\n",
       "          10.20823561,  49.37465457,   0.26941967, 100.        ,\n",
       "          86.51554565])],\n",
       " '39810.71705534969': [      fun: 5.636443073544105\n",
       "   hess_inv: <9x9 LbfgsInvHessProduct with dtype=float64>\n",
       "        jac: array([ -0.73939077,   0.81277712,  -0.596577  ,  27.51890667,\n",
       "         -51.35903121, -25.20893023,  24.00953362,   0.2248834 ,\n",
       "          -8.10530069])\n",
       "    message: b'CONVERGENCE: REL_REDUCTION_OF_F_<=_FACTR*EPSMCH'\n",
       "       nfev: 62\n",
       "        nit: 1\n",
       "     status: 0\n",
       "    success: True\n",
       "          x: array([3.e-01, 1.e+00, 7.e-01, 2.e+00, 1.e+00, 1.e+00, 1.e+00, 1.e+00,\n",
       "         1.e-03])],\n",
       " '50118.72336272725': [      fun: 0.42925251751403254\n",
       "   hess_inv: <9x9 LbfgsInvHessProduct with dtype=float64>\n",
       "        jac: array([ 1.03184337e-06, -1.32306165e-04,  6.87847900e-06, -1.04829261e-06,\n",
       "         -1.64640751e-06, -1.85202991e-08,  1.06651003e-02, -4.11321331e-04,\n",
       "          1.65171117e-07])\n",
       "    message: b'CONVERGENCE: NORM_OF_PROJECTED_GRADIENT_<=_PGTOL'\n",
       "       nfev: 123\n",
       "        nit: 80\n",
       "     status: 0\n",
       "    success: True\n",
       "          x: array([2.13835838e-02, 1.00000000e+02, 1.64350485e+00, 2.34444713e-04,\n",
       "         9.47319045e-03, 8.60168354e+01, 0.00000000e+00, 1.00000000e+02,\n",
       "         7.57401563e+01])],\n",
       " '63095.73444801943': [      fun: 5.325453510213752\n",
       "   hess_inv: <9x9 LbfgsInvHessProduct with dtype=float64>\n",
       "        jac: array([ -0.74029101,   0.81917288,  -0.5141752 ,  30.58766359,\n",
       "         -60.7943211 , -30.28964275,  29.5689715 ,   0.2271121 ,\n",
       "          -9.77175109])\n",
       "    message: b'CONVERGENCE: REL_REDUCTION_OF_F_<=_FACTR*EPSMCH'\n",
       "       nfev: 50\n",
       "        nit: 1\n",
       "     status: 0\n",
       "    success: True\n",
       "          x: array([3.e-01, 1.e+00, 7.e-01, 2.e+00, 1.e+00, 1.e+00, 1.e+00, 1.e+00,\n",
       "         1.e-03])],\n",
       " '79432.82347242821': [      fun: 4.287333239914811\n",
       "   hess_inv: <9x9 LbfgsInvHessProduct with dtype=float64>\n",
       "        jac: array([-13.74513734,   5.92758425,  -6.84171541,  -2.36995273,\n",
       "           9.35390639,  -3.15010798,   6.67500811,  -2.1420408 ,\n",
       "          -0.88699255])\n",
       "    message: b'CONVERGENCE: REL_REDUCTION_OF_F_<=_FACTR*EPSMCH'\n",
       "       nfev: 34\n",
       "        nit: 3\n",
       "     status: 0\n",
       "    success: True\n",
       "          x: array([0.36847101, 0.99123484, 0.73340712, 1.9921195 , 1.08465646,\n",
       "         1.07276962, 0.91895169, 1.04814585, 0.03444698])],\n",
       " '100000.0': [      fun: 0.5332888086776034\n",
       "   hess_inv: <9x9 LbfgsInvHessProduct with dtype=float64>\n",
       "        jac: array([ 1.74765831e+00, -4.70119020e-01,  1.82290997e-01,  4.16281354e-02,\n",
       "          8.01897616e-03, -2.96084147e-01,  2.17136993e+00, -3.78069347e-03,\n",
       "          8.04301435e-04])\n",
       "    message: b'CONVERGENCE: REL_REDUCTION_OF_F_<=_FACTR*EPSMCH'\n",
       "       nfev: 144\n",
       "        nit: 77\n",
       "     status: 0\n",
       "    success: True\n",
       "          x: array([ 0.        ,  0.74530929,  0.        ,  5.11425631,  0.74432465,\n",
       "          0.54231939,  0.04349352, 11.16815885,  6.65153942])]}"
      ]
     },
     "execution_count": 9,
     "metadata": {},
     "output_type": "execute_result"
    }
   ],
   "source": [
    "solver.solutions"
   ]
  },
  {
   "cell_type": "markdown",
   "metadata": {},
   "source": [
    "## Validation"
   ]
  },
  {
   "cell_type": "code",
   "execution_count": 10,
   "metadata": {
    "ExecuteTime": {
     "end_time": "2019-03-25T03:35:25.952013Z",
     "start_time": "2019-03-25T03:35:14.016966Z"
    }
   },
   "outputs": [],
   "source": [
    "## Validation of the outer jacobian\n",
    "ca = fitter.ca\n",
    "dHdc = ca.hcat([ca.gradient(solver._inner_objective._obj_1, ci) for ci in model.cs]).reshape((1, 3*model.K))\n",
    "d2Jdc2 = ca.hcat([ca.jacobian(solver._inner_objective.inner_jacobian, ci) for ci in model.cs]).reshape((3*model.K, 3*model.K))\n",
    "dJ2dcdp = ca.hcat([ca.jacobian(solver._inner_objective.inner_jacobian, pi) for pi in model.ps]).reshape((3*model.K, len(model.ps)))"
   ]
  },
  {
   "cell_type": "code",
   "execution_count": 11,
   "metadata": {
    "ExecuteTime": {
     "end_time": "2019-03-25T03:35:26.293439Z",
     "start_time": "2019-03-25T03:35:25.953042Z"
    }
   },
   "outputs": [],
   "source": [
    "dHdc_fn = ca.Function(\"dhdcfn\", solver._inner_objective.input_list, [dHdc])\n",
    "d2Jdc2_fn = ca.Function(\"d2jdc2\", solver._inner_objective.input_list, [d2Jdc2])\n",
    "dJ2dcdp_fn = ca.Function(\"d2jdcdp\", solver._inner_objective.input_list, [dJ2dcdp])"
   ]
  },
  {
   "cell_type": "code",
   "execution_count": 12,
   "metadata": {
    "ExecuteTime": {
     "end_time": "2019-03-25T03:35:26.300873Z",
     "start_time": "2019-03-25T03:35:26.294636Z"
    }
   },
   "outputs": [],
   "source": [
    "in_arg = [model.observation_times, *fitter.argsplit(solver.problems[0].cache.recent, 3), *[0.3, 1, 0.7, 2, 1, 1, 1, 1, 0], solver._inner_objective.generate_collocation_matrix(context['datasets'][0], model), len(context['datasets'][0]['t']), *solver._inner_objective.pad_observations(context['datasets'][0]['y']), 1000]"
   ]
  },
  {
   "cell_type": "code",
   "execution_count": 13,
   "metadata": {
    "ExecuteTime": {
     "end_time": "2019-03-25T03:35:26.381200Z",
     "start_time": "2019-03-25T03:35:26.301959Z"
    }
   },
   "outputs": [],
   "source": [
    "dhdc_eval = dHdc_fn(*in_arg)\n",
    "d2jdc2_eval = d2Jdc2_fn(*in_arg)\n",
    "dj2dcdp_eval = dJ2dcdp_fn(*in_arg)"
   ]
  },
  {
   "cell_type": "code",
   "execution_count": 14,
   "metadata": {
    "ExecuteTime": {
     "end_time": "2019-03-25T03:35:26.385163Z",
     "start_time": "2019-03-25T03:35:26.382488Z"
    }
   },
   "outputs": [],
   "source": [
    "import numpy as np\n",
    "def numerical_log(matrix):\n",
    "    return np.log(np.fabs(np.array(matrix))+1e-16)\n",
    "\n",
    "import matplotlib.pyplot as plt\n",
    "plt.rcParams['figure.figsize'] = [10, 5]"
   ]
  },
  {
   "cell_type": "code",
   "execution_count": 15,
   "metadata": {
    "ExecuteTime": {
     "end_time": "2019-03-25T03:35:27.011901Z",
     "start_time": "2019-03-25T03:35:26.386369Z"
    }
   },
   "outputs": [
    {
     "data": {
      "text/plain": [
       "Text(0.5, 1.0, 'log(dH/dc)')"
      ]
     },
     "execution_count": 15,
     "metadata": {},
     "output_type": "execute_result"
    },
    {
     "data": {
      "image/png": "[encoded data removed]",
      "text/plain": [
       "<Figure size 720x360 with 1 Axes>"
      ]
     },
     "metadata": {
      "needs_background": "dark"
     },
     "output_type": "display_data"
    }
   ],
   "source": [
    "plt.plot(np.array(dhdc_eval).reshape(-1,), 'o')\n",
    "plt.title(\"log(dH/dc)\")"
   ]
  },
  {
   "cell_type": "code",
   "execution_count": 16,
   "metadata": {
    "ExecuteTime": {
     "end_time": "2019-03-25T03:35:27.254308Z",
     "start_time": "2019-03-25T03:35:27.013183Z"
    }
   },
   "outputs": [
    {
     "data": {
      "text/plain": [
       "Text(0.5, 1.0, 'log(d2J/dc2)')"
      ]
     },
     "execution_count": 16,
     "metadata": {},
     "output_type": "execute_result"
    },
    {
     "data": {
      "image/png": "[encoded data removed]",
      "text/plain": [
       "<Figure size 720x360 with 2 Axes>"
      ]
     },
     "metadata": {
      "needs_background": "dark"
     },
     "output_type": "display_data"
    }
   ],
   "source": [
    "plt.imshow(numerical_log(d2jdc2_eval))\n",
    "plt.colorbar()\n",
    "plt.title(\"log(d2J/dc2)\")"
   ]
  },
  {
   "cell_type": "code",
   "execution_count": 17,
   "metadata": {
    "ExecuteTime": {
     "end_time": "2019-03-25T03:35:27.437398Z",
     "start_time": "2019-03-25T03:35:27.258452Z"
    }
   },
   "outputs": [
    {
     "data": {
      "text/plain": [
       "Text(0.5, 1.0, 'log(dJ2dcdp)')"
      ]
     },
     "execution_count": 17,
     "metadata": {},
     "output_type": "execute_result"
    },
    {
     "data": {
      "image/png": "[encoded data removed]",
      "text/plain": [
       "<Figure size 720x360 with 2 Axes>"
      ]
     },
     "metadata": {
      "needs_background": "dark"
     },
     "output_type": "display_data"
    }
   ],
   "source": [
    "plt.imshow(numerical_log(dj2dcdp_eval).T)\n",
    "plt.colorbar()\n",
    "plt.title(\"log(dJ2dcdp)\")"
   ]
  },
  {
   "cell_type": "code",
   "execution_count": 18,
   "metadata": {
    "ExecuteTime": {
     "end_time": "2019-03-25T03:35:27.660962Z",
     "start_time": "2019-03-25T03:35:27.440605Z"
    }
   },
   "outputs": [
    {
     "data": {
      "text/plain": [
       "<matplotlib.image.AxesImage at 0x7f090b0fd278>"
      ]
     },
     "execution_count": 18,
     "metadata": {},
     "output_type": "execute_result"
    },
    {
     "data": {
      "image/png": "[encoded data removed]",
      "text/plain": [
       "<Figure size 720x360 with 1 Axes>"
      ]
     },
     "metadata": {
      "needs_background": "dark"
     },
     "output_type": "display_data"
    }
   ],
   "source": [
    "H_num = solver._inner_objective.generate_collocation_matrix(context['datasets'][0], model)\n",
    "plt.imshow(H_num, aspect='auto')"
   ]
  },
  {
   "cell_type": "code",
   "execution_count": 19,
   "metadata": {
    "ExecuteTime": {
     "end_time": "2019-03-25T03:35:30.463205Z",
     "start_time": "2019-03-25T03:35:27.662330Z"
    }
   },
   "outputs": [
    {
     "name": "stdout",
     "output_type": "stream",
     "text": [
      "34.3 ms ± 87.5 µs per loop (mean ± std. dev. of 7 runs, 10 loops each)\n"
     ]
    }
   ],
   "source": [
    "# create and profile calls\n",
    "\n",
    "obj_fn, obj_jac = solver._inner_objective.create_objective_functions(model, context['datasets'][0])\n",
    "\n",
    "c_test = np.array(solver.problems[0].cache.recent)\n",
    "\n",
    "%timeit obj_fn(c_test, [0.3, 1, 0.7, 2, 1, 1, 1,1 , 1e-4], rho=1000)"
   ]
  },
  {
   "cell_type": "code",
   "execution_count": 20,
   "metadata": {
    "ExecuteTime": {
     "end_time": "2019-03-25T03:35:30.471818Z",
     "start_time": "2019-03-25T03:35:30.464424Z"
    }
   },
   "outputs": [],
   "source": [
    "getx = ca.Function(\"getx\", [model.ts, *model.cs], model.xs)"
   ]
  },
  {
   "cell_type": "code",
   "execution_count": 42,
   "metadata": {
    "ExecuteTime": {
     "end_time": "2019-03-26T01:12:56.239448Z",
     "start_time": "2019-03-26T01:12:56.056148Z"
    }
   },
   "outputs": [
    {
     "data": {
      "image/png": "[encoded data removed]",
      "text/plain": [
       "<Figure size 720x360 with 1 Axes>"
      ]
     },
     "metadata": {
      "needs_background": "dark"
     },
     "output_type": "display_data"
    }
   ],
   "source": [
    "xs = np.array([np.array(i) for i in getx(model.observation_times, *fitter.argsplit(solver.problems[0].cache.recent, 3))])\n",
    "plt.plot(model.observation_times, np.hstack([xs[0], xs[1], xs[2]]),\n",
    "         context['datasets'][0]['t'], context['datasets'][0]['x'], 'o',\n",
    "         context['datasets'][0]['t'], context['datasets'][0]['z'], 'o')\n",
    "plt.legend(\"xyz\")\n",
    "\n",
    "iv = [xs[i][0].item() for i in range(3)]"
   ]
  },
  {
   "cell_type": "code",
   "execution_count": 32,
   "metadata": {
    "ExecuteTime": {
     "end_time": "2019-03-26T01:09:58.750839Z",
     "start_time": "2019-03-26T01:09:57.606149Z"
    }
   },
   "outputs": [
    {
     "data": {
      "text/plain": [
       "[<matplotlib.lines.Line2D at 0x7f090abc8ba8>,\n",
       " <matplotlib.lines.Line2D at 0x7f090abc8dd8>]"
      ]
     },
     "execution_count": 32,
     "metadata": {},
     "output_type": "execute_result"
    },
    {
     "data": {
      "image/png": "[encoded data removed]",
      "text/plain": [
       "<Figure size 720x360 with 1 Axes>"
      ]
     },
     "metadata": {
      "needs_background": "dark"
     },
     "output_type": "display_data"
    }
   ],
   "source": [
    "plt.plot(xs[0], xs[2], context['datasets'][0]['x'], context['datasets'][0]['z'], 'o')"
   ]
  },
  {
   "cell_type": "code",
   "execution_count": 43,
   "metadata": {
    "ExecuteTime": {
     "end_time": "2019-03-26T01:27:10.316996Z",
     "start_time": "2019-03-26T01:27:10.312338Z"
    }
   },
   "outputs": [
    {
     "name": "stdout",
     "output_type": "stream",
     "text": [
      "0                                [3.48e-05, 0.0]\n",
      "1              [0.001162611, 0.7800000000000002]\n",
      "2             [0.001478414, 0.41999999999999993]\n",
      "3             [0.212730337, 0.07000000000000028]\n",
      "4    [0.42600703700000003, -0.16999999999999993]\n",
      "Name: y, dtype: object\n"
     ]
    }
   ],
   "source": [
    "print(context['datasets'][0]['y'][:5])"
   ]
  },
  {
   "cell_type": "code",
   "execution_count": 22,
   "metadata": {
    "ExecuteTime": {
     "end_time": "2019-03-25T03:35:31.493337Z",
     "start_time": "2019-03-25T03:35:31.473286Z"
    },
    "scrolled": true
   },
   "outputs": [
    {
     "data": {
      "text/plain": [
       "array([3.85342469e-01, 3.38503226e-01, 2.34002644e-01, 2.53160352e-01,\n",
       "       3.39436852e-01, 4.00043151e-01, 4.40658369e-01, 4.90852784e-01,\n",
       "       4.98479582e-01, 5.30750775e-01, 5.70088870e-01, 5.83474294e-01,\n",
       "       6.46924058e-01, 7.02786516e-01, 8.68126739e-01, 8.93082470e-01,\n",
       "       9.77807810e-01, 1.06132593e+00, 1.17267463e+00, 1.19303228e+00,\n",
       "       1.20622748e+00, 1.23523702e+00, 1.26081587e+00, 1.26457464e+00,\n",
       "       1.28595832e+00, 1.30243719e+00, 1.31543243e+00, 1.32466687e+00,\n",
       "       1.34275783e+00, 1.36403777e+00, 1.38544977e+00, 1.40985114e+00,\n",
       "       1.45740359e+00, 1.49191189e+00, 1.55587650e+00, 1.62297708e+00,\n",
       "       1.66173775e+00, 1.73268022e+00, 1.81420875e+00, 1.91495101e+00,\n",
       "       2.02242843e+00, 2.55109590e+00, 2.71421588e+00, 2.74464146e+00,\n",
       "       2.76589526e+00, 2.78715780e+00, 2.79942326e+00, 2.85068151e+00,\n",
       "       2.89182004e+00, 2.94044091e+00, 2.96578994e+00, 3.05170372e+00,\n",
       "       3.11682541e+00, 3.39394885e+00, 3.66410671e+00, 6.50540313e+00,\n",
       "       1.17096614e+01, 2.60474106e+01, 5.58184109e+01, 1.14063609e+02,\n",
       "       2.27268770e+02, 4.59551472e+02, 9.56163469e+02, 2.07767704e+03,\n",
       "       4.79367641e+03, 1.19591682e+04, 3.28723351e+04, 1.00895296e+05,\n",
       "       3.43779740e+05, 1.26688443e+06, 4.93890115e+06, 1.97371039e+07,\n",
       "       7.88720283e+07, 2.60576992e+08, 8.61202080e+08, 3.30034680e+09,\n",
       "       3.30413018e+09])"
      ]
     },
     "execution_count": 22,
     "metadata": {},
     "output_type": "execute_result"
    }
   ],
   "source": [
    "from scipy import integrate\n",
    "\n",
    "sol = integrate.solve_ivp(lambda t, y: context['model'](t, y, [0.92255063, 0.55098101, 1.97517646, 0.45065379, 0.66048963,\n",
    "         2.21360157, 2.85341497, 1.13601111, 0.55253756]), [0, 24], iv)\n",
    "\n",
    "sol.y[2]"
   ]
  },
  {
   "cell_type": "code",
   "execution_count": 23,
   "metadata": {
    "ExecuteTime": {
     "end_time": "2019-03-25T03:35:31.500378Z",
     "start_time": "2019-03-25T03:35:31.495768Z"
    }
   },
   "outputs": [],
   "source": [
    "outer_evals = {r:v[0].fun for r, v in solver.solutions.items()}\n",
    "\n",
    "outer_list = np.array([[float(key), value] for key, value in outer_evals.items()])"
   ]
  },
  {
   "cell_type": "code",
   "execution_count": 24,
   "metadata": {
    "ExecuteTime": {
     "end_time": "2019-03-25T03:35:32.180542Z",
     "start_time": "2019-03-25T03:35:31.502828Z"
    }
   },
   "outputs": [
    {
     "data": {
      "text/plain": [
       "Text(0.5, 1.0, \"'L'-Curve\")"
      ]
     },
     "execution_count": 24,
     "metadata": {},
     "output_type": "execute_result"
    },
    {
     "data": {
      "image/png": "[encoded data removed]",
      "text/plain": [
       "<Figure size 720x360 with 1 Axes>"
      ]
     },
     "metadata": {
      "needs_background": "dark"
     },
     "output_type": "display_data"
    }
   ],
   "source": [
    "plt.loglog(*outer_list.T, 'o')\n",
    "plt.xlabel(r\"Algorithm parameter $\\rho$ \")\n",
    "plt.ylabel(r\"Outer Objective Function Values\")\n",
    "plt.title(\"'L'-Curve\")"
   ]
  },
  {
   "cell_type": "code",
   "execution_count": 25,
   "metadata": {
    "ExecuteTime": {
     "end_time": "2019-03-25T03:35:32.186893Z",
     "start_time": "2019-03-25T03:35:32.183707Z"
    }
   },
   "outputs": [],
   "source": [
    "def gen_key(sol_key, solution):\n",
    "    return \"y\".join(map(str,solution.x)) + \"r\" + sol_key"
   ]
  },
  {
   "cell_type": "code",
   "execution_count": 26,
   "metadata": {
    "ExecuteTime": {
     "end_time": "2019-03-25T03:35:32.196612Z",
     "start_time": "2019-03-25T03:35:32.188022Z"
    }
   },
   "outputs": [],
   "source": [
    "inner_evals = dict()\n",
    "for soli in solver.solutions:\n",
    "    key = gen_key(soli, solver.solutions[soli][0])\n",
    "    inner_evals[soli] = solver.problems[0].cache.results[key]\n",
    "    "
   ]
  },
  {
   "cell_type": "code",
   "execution_count": 27,
   "metadata": {
    "ExecuteTime": {
     "end_time": "2019-03-25T03:35:32.518571Z",
     "start_time": "2019-03-25T03:35:32.197836Z"
    }
   },
   "outputs": [
    {
     "data": {
      "text/plain": [
       "[<matplotlib.lines.Line2D at 0x7f090af08b70>]"
      ]
     },
     "execution_count": 27,
     "metadata": {},
     "output_type": "execute_result"
    },
    {
     "data": {
      "image/png": "[encoded data removed]",
      "text/plain": [
       "<Figure size 720x360 with 1 Axes>"
      ]
     },
     "metadata": {
      "needs_background": "dark"
     },
     "output_type": "display_data"
    }
   ],
   "source": [
    "new_list = []\n",
    "for key in inner_evals.keys():\n",
    "    new_list.append((float(key), inner_evals[key].fun))\n",
    "new_list = np.array(new_list)\n",
    "plt.loglog(*np.array(new_list).T, 'o')"
   ]
  },
  {
   "cell_type": "code",
   "execution_count": 28,
   "metadata": {
    "ExecuteTime": {
     "end_time": "2019-03-25T03:35:32.522338Z",
     "start_time": "2019-03-25T03:35:32.519805Z"
    }
   },
   "outputs": [],
   "source": [
    "diff_field_value = [[okey, (ivalue-ovalue)/(ikey)] for (ikey, ivalue), (okey, ovalue) in zip(new_list, outer_list)]"
   ]
  },
  {
   "cell_type": "code",
   "execution_count": 29,
   "metadata": {
    "ExecuteTime": {
     "end_time": "2019-03-25T03:35:32.944160Z",
     "start_time": "2019-03-25T03:35:32.524000Z"
    },
    "scrolled": true
   },
   "outputs": [
    {
     "data": {
      "text/plain": [
       "[<matplotlib.lines.Line2D at 0x7f090add9ef0>]"
      ]
     },
     "execution_count": 29,
     "metadata": {},
     "output_type": "execute_result"
    },
    {
     "data": {
      "image/png": "[encoded data removed]",
      "text/plain": [
       "<Figure size 720x360 with 1 Axes>"
      ]
     },
     "metadata": {
      "needs_background": "dark"
     },
     "output_type": "display_data"
    }
   ],
   "source": [
    "plt.loglog(*np.array(diff_field_value).T, 'o')"
   ]
  }
 ],
 "metadata": {
  "@webio": {
   "lastCommId": "7048949525ef4826900c40f2d4951bd2",
   "lastKernelId": "a02a1186-de22-496e-afee-27a80d521403"
  },
  "kernelspec": {
   "display_name": "Python 3",
   "language": "python",
   "name": "python3"
  },
  "language_info": {
   "codemirror_mode": {
    "name": "ipython",
    "version": 3
   },
   "file_extension": ".py",
   "mimetype": "text/x-python",
   "name": "python",
   "nbconvert_exporter": "python",
   "pygments_lexer": "ipython3",
   "version": "3.6.7"
  }
 },
 "nbformat": 4,
 "nbformat_minor": 2
}
